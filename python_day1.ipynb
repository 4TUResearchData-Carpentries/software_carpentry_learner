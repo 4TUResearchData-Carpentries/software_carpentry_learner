{
 "cells": [
  {
   "cell_type": "markdown",
   "id": "0e2675ea-5d85-4982-b70c-263329aa893a",
   "metadata": {},
   "source": [
    "# Python part 1"
   ]
  },
  {
   "cell_type": "markdown",
   "id": "27ad8183-e738-45f1-a8d0-72719c4553a3",
   "metadata": {},
   "source": [
    "## Python fundamentals"
   ]
  },
  {
   "cell_type": "code",
   "execution_count": null,
   "id": "05a831be-55ed-41e6-a198-684cd9f4275e",
   "metadata": {},
   "outputs": [],
   "source": []
  }
 ],
 "metadata": {
  "kernelspec": {
   "display_name": "Python 3 (ipykernel)",
   "language": "python",
   "name": "python3"
  },
  "language_info": {
   "codemirror_mode": {
    "name": "ipython",
    "version": 3
   },
   "file_extension": ".py",
   "mimetype": "text/x-python",
   "name": "python",
   "nbconvert_exporter": "python",
   "pygments_lexer": "ipython3",
   "version": "3.8.8"
  }
 },
 "nbformat": 4,
 "nbformat_minor": 5
}
