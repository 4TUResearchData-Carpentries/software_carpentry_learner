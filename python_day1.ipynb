{
 "cells": [
  {
   "cell_type": "markdown",
   "id": "0e2675ea-5d85-4982-b70c-263329aa893a",
   "metadata": {},
   "source": [
    "# Python part 1"
   ]
  },
  {
   "cell_type": "markdown",
   "id": "27ad8183-e738-45f1-a8d0-72719c4553a3",
   "metadata": {},
   "source": [
    "## Python fundamentals"
   ]
  },
  {
   "cell_type": "code",
   "execution_count": 2,
   "id": "05a831be-55ed-41e6-a198-684cd9f4275e",
   "metadata": {},
   "outputs": [
    {
     "data": {
      "text/plain": [
       "23"
      ]
     },
     "execution_count": 2,
     "metadata": {},
     "output_type": "execute_result"
    }
   ],
   "source": [
    "3 + 5 * 4"
   ]
  },
  {
   "cell_type": "code",
   "execution_count": 3,
   "id": "eb92d530-ee68-4e25-b65c-106c4e52e9a2",
   "metadata": {},
   "outputs": [],
   "source": [
    "weight_kg = 60 # integer"
   ]
  },
  {
   "cell_type": "markdown",
   "id": "9b932272-ec8e-4029-aad7-32be6637bfa5",
   "metadata": {},
   "source": [
    "### Types of data"
   ]
  },
  {
   "cell_type": "code",
   "execution_count": 4,
   "id": "ef25cc35-2f71-44cf-9721-43237509efb8",
   "metadata": {},
   "outputs": [],
   "source": [
    "weight_kg = 60.3 # floating point"
   ]
  },
  {
   "cell_type": "code",
   "execution_count": 5,
   "id": "186406e1-e8a5-45bf-9489-5e0b4326861a",
   "metadata": {},
   "outputs": [],
   "source": [
    "patient_id = \"001\" # string"
   ]
  },
  {
   "cell_type": "code",
   "execution_count": 6,
   "id": "aafac288-4ba1-4e28-93fe-97fefd85729d",
   "metadata": {},
   "outputs": [],
   "source": [
    "weight_lb = 2.2 * weight_kg"
   ]
  },
  {
   "cell_type": "code",
   "execution_count": 7,
   "id": "157057c3-190f-45ac-af5d-89f5e9018ae9",
   "metadata": {},
   "outputs": [],
   "source": [
    "patient_id = \"patient_\" + patient_id"
   ]
  },
  {
   "cell_type": "code",
   "execution_count": 8,
   "id": "25047830-4c14-403f-b3a4-95a93e2b7a23",
   "metadata": {},
   "outputs": [
    {
     "name": "stdout",
     "output_type": "stream",
     "text": [
      "60.3\n"
     ]
    }
   ],
   "source": [
    "print(weight_kg)"
   ]
  },
  {
   "cell_type": "code",
   "execution_count": 9,
   "id": "0f10fe07-9993-48a1-ace1-480b2515292f",
   "metadata": {},
   "outputs": [
    {
     "name": "stdout",
     "output_type": "stream",
     "text": [
      "patient_001\n"
     ]
    }
   ],
   "source": [
    "print(patient_id)"
   ]
  },
  {
   "cell_type": "code",
   "execution_count": 10,
   "id": "790bd4b4-a043-4858-806c-3cd9b0fa1c43",
   "metadata": {},
   "outputs": [
    {
     "name": "stdout",
     "output_type": "stream",
     "text": [
      "patient_001 weight in kilograms: 60.3\n"
     ]
    }
   ],
   "source": [
    "print(patient_id, \"weight in kilograms:\", weight_kg)"
   ]
  },
  {
   "cell_type": "code",
   "execution_count": 11,
   "id": "0dd04d11-32a6-47bf-bdd8-c6c650c16d46",
   "metadata": {},
   "outputs": [
    {
     "name": "stdout",
     "output_type": "stream",
     "text": [
      "<class 'float'>\n"
     ]
    }
   ],
   "source": [
    "print(type(weight_kg))"
   ]
  },
  {
   "cell_type": "code",
   "execution_count": 12,
   "id": "60a00bf9-b42e-4950-a33b-0c242e887e34",
   "metadata": {},
   "outputs": [
    {
     "name": "stdout",
     "output_type": "stream",
     "text": [
      "<class 'str'>\n"
     ]
    }
   ],
   "source": [
    "print(type(patient_id))"
   ]
  },
  {
   "cell_type": "code",
   "execution_count": 13,
   "id": "32728eb1-a287-4ea3-91c3-560fa4263b80",
   "metadata": {},
   "outputs": [
    {
     "name": "stdout",
     "output_type": "stream",
     "text": [
      "<class 'float'>\n"
     ]
    }
   ],
   "source": [
    "x = 4 / 3\n",
    "print(type(x))"
   ]
  },
  {
   "cell_type": "markdown",
   "id": "a4049e60-ce1f-4a0f-8a20-eb2cb94518bf",
   "metadata": {},
   "source": [
    "### Python lists"
   ]
  },
  {
   "cell_type": "code",
   "execution_count": 14,
   "id": "158b37f6-7e8e-41f6-ad03-f41d8c8f1a04",
   "metadata": {},
   "outputs": [
    {
     "name": "stdout",
     "output_type": "stream",
     "text": [
      "odds are: [1, 3, 5, 7]\n"
     ]
    }
   ],
   "source": [
    "odds = [1, 3, 5, 7]\n",
    "print(\"odds are:\", odds)"
   ]
  },
  {
   "cell_type": "code",
   "execution_count": 15,
   "id": "fe73598f-875d-49d5-b380-777124088364",
   "metadata": {},
   "outputs": [
    {
     "name": "stdout",
     "output_type": "stream",
     "text": [
      "first element: 1\n"
     ]
    }
   ],
   "source": [
    "# Accessing elements through indexing\n",
    "print(\"first element:\", odds[0])"
   ]
  },
  {
   "cell_type": "code",
   "execution_count": 16,
   "id": "6b6cbedd-9b03-466c-b821-80255dacd5db",
   "metadata": {},
   "outputs": [
    {
     "name": "stdout",
     "output_type": "stream",
     "text": [
      "last element: 7\n"
     ]
    }
   ],
   "source": [
    "print(\"last element:\", odds[3])"
   ]
  },
  {
   "cell_type": "code",
   "execution_count": 17,
   "id": "933889d9-241a-4348-a8a4-a5213ed743a2",
   "metadata": {},
   "outputs": [
    {
     "name": "stdout",
     "output_type": "stream",
     "text": [
      "['Curie', 'Darwing', 'Turing']\n"
     ]
    }
   ],
   "source": [
    "names = [\"Curie\", \"Darwing\", \"Turing\"]\n",
    "print(names)"
   ]
  },
  {
   "cell_type": "code",
   "execution_count": 18,
   "id": "5bdb5293-ea39-417e-b7e2-4619942fdf8e",
   "metadata": {},
   "outputs": [
    {
     "name": "stdout",
     "output_type": "stream",
     "text": [
      "['Curie', 'Darwin', 'Turing']\n"
     ]
    }
   ],
   "source": [
    "names[1] = \"Darwin\"\n",
    "print(names)"
   ]
  },
  {
   "cell_type": "markdown",
   "id": "fd1b7e65-bc78-403a-90f5-b0a9b80f8e28",
   "metadata": {},
   "source": [
    "#### Careful with mutable data"
   ]
  },
  {
   "cell_type": "code",
   "execution_count": 19,
   "id": "ad13e5ca-6431-4c99-a796-3456b1d88113",
   "metadata": {},
   "outputs": [
    {
     "name": "stdout",
     "output_type": "stream",
     "text": [
      "my salsa: ['hot peppers', 'onions', 'cilantro', 'tomatoes']\n",
      "salsa ['hot peppers', 'onions', 'cilantro', 'tomatoes']\n"
     ]
    }
   ],
   "source": [
    "salsa = [\"peppers\", \"onions\", \"cilantro\", \"tomatoes\"]\n",
    "my_salsa = salsa\n",
    "\n",
    "# Let's change my recipe\n",
    "my_salsa[0] = \"hot peppers\"\n",
    "print(\"my salsa:\", my_salsa)\n",
    "print(\"salsa\", salsa)"
   ]
  },
  {
   "cell_type": "code",
   "execution_count": 20,
   "id": "5abb724b-7133-4ea8-ac97-5d5b4d43ed6f",
   "metadata": {},
   "outputs": [
    {
     "name": "stdout",
     "output_type": "stream",
     "text": [
      "my salsa ['hot peppers', 'onions', 'basil', 'tomatoes']\n",
      "salsa ['hot peppers', 'onions', 'cilantro', 'tomatoes']\n"
     ]
    }
   ],
   "source": [
    "my_salsa = list(salsa)\n",
    "my_salsa[2] = \"basil\"\n",
    "print(\"my salsa\", my_salsa)\n",
    "print(\"salsa\", salsa)"
   ]
  },
  {
   "cell_type": "markdown",
   "id": "ac068b63-0ea5-4374-9e4f-a909ce6ed276",
   "metadata": {},
   "source": [
    "## Analysing patient data"
   ]
  },
  {
   "cell_type": "code",
   "execution_count": 21,
   "id": "3fc29f2f-522f-41ca-b844-c61ef20606a4",
   "metadata": {},
   "outputs": [],
   "source": [
    "import numpy"
   ]
  },
  {
   "cell_type": "code",
   "execution_count": 23,
   "id": "42c0d617-096f-453d-971e-c4bb1e82c9b6",
   "metadata": {},
   "outputs": [],
   "source": [
    "data = numpy.loadtxt(fname=\"data/inflammation-01.csv\", delimiter=\",\")"
   ]
  },
  {
   "cell_type": "code",
   "execution_count": 24,
   "id": "d7e3af9f-a8a3-46d8-897c-8960f12236de",
   "metadata": {},
   "outputs": [
    {
     "name": "stdout",
     "output_type": "stream",
     "text": [
      "[[0. 0. 1. ... 3. 0. 0.]\n",
      " [0. 1. 2. ... 1. 0. 1.]\n",
      " [0. 1. 1. ... 2. 1. 1.]\n",
      " ...\n",
      " [0. 1. 1. ... 1. 1. 1.]\n",
      " [0. 0. 0. ... 0. 2. 0.]\n",
      " [0. 0. 1. ... 1. 1. 0.]]\n"
     ]
    }
   ],
   "source": [
    "print(data)"
   ]
  },
  {
   "cell_type": "code",
   "execution_count": 25,
   "id": "61d0d28a-b9bf-4a42-9069-4516ca78eb9f",
   "metadata": {},
   "outputs": [
    {
     "name": "stdout",
     "output_type": "stream",
     "text": [
      "<class 'numpy.ndarray'>\n"
     ]
    }
   ],
   "source": [
    "print(type(data))"
   ]
  },
  {
   "cell_type": "code",
   "execution_count": 26,
   "id": "641fc3b2-8054-433e-ba69-835c72e30c95",
   "metadata": {},
   "outputs": [
    {
     "name": "stdout",
     "output_type": "stream",
     "text": [
      "float64\n"
     ]
    }
   ],
   "source": [
    "print(data.dtype)"
   ]
  },
  {
   "cell_type": "code",
   "execution_count": 27,
   "id": "c4014cb3-701d-4c1c-859d-86ff4c005339",
   "metadata": {},
   "outputs": [
    {
     "name": "stdout",
     "output_type": "stream",
     "text": [
      "(60, 40)\n"
     ]
    }
   ],
   "source": [
    "print(data.shape)"
   ]
  },
  {
   "cell_type": "code",
   "execution_count": 28,
   "id": "6a7c4e67-96a3-4950-ad13-4ab071d6fbdd",
   "metadata": {},
   "outputs": [
    {
     "name": "stdout",
     "output_type": "stream",
     "text": [
      "first element in data: 0.0\n"
     ]
    }
   ],
   "source": [
    "# Indexing an array\n",
    "print(\"first element in data:\", data[0, 0])"
   ]
  },
  {
   "cell_type": "code",
   "execution_count": 29,
   "id": "a3f6fd3d-3ebe-4f31-94e8-f84b4451c512",
   "metadata": {},
   "outputs": [
    {
     "name": "stdout",
     "output_type": "stream",
     "text": [
      "[[0. 0. 1. 3. 1. 2. 4. 7. 8. 3.]\n",
      " [0. 1. 2. 1. 2. 1. 3. 2. 2. 6.]\n",
      " [0. 1. 1. 3. 3. 2. 6. 2. 5. 9.]\n",
      " [0. 0. 2. 0. 4. 2. 2. 1. 6. 7.]]\n"
     ]
    }
   ],
   "source": [
    "print(data[0:4, 0:10])"
   ]
  },
  {
   "cell_type": "code",
   "execution_count": 31,
   "id": "bb8099a3-2569-4992-8898-7651bd616d34",
   "metadata": {},
   "outputs": [
    {
     "name": "stdout",
     "output_type": "stream",
     "text": [
      "[[2. 3. 0. 0.]\n",
      " [1. 1. 0. 1.]\n",
      " [2. 2. 1. 1.]]\n"
     ]
    }
   ],
   "source": [
    "subset = data[:3, -4:]\n",
    "print(subset)"
   ]
  },
  {
   "cell_type": "markdown",
   "id": "1155f6bd-6465-4338-a387-d24f1ac5e2e5",
   "metadata": {},
   "source": [
    "### Statistics"
   ]
  },
  {
   "cell_type": "code",
   "execution_count": 32,
   "id": "b7e7219b-5f00-4358-82f4-62a82f708b3f",
   "metadata": {},
   "outputs": [
    {
     "name": "stdout",
     "output_type": "stream",
     "text": [
      "6.14875\n"
     ]
    }
   ],
   "source": [
    "print(numpy.mean(data))"
   ]
  },
  {
   "cell_type": "code",
   "execution_count": 33,
   "id": "4b7fff64-2955-4bfb-b227-e2523bd95219",
   "metadata": {},
   "outputs": [
    {
     "name": "stdout",
     "output_type": "stream",
     "text": [
      "maximum 20.0\n",
      "minimum 0.0\n",
      "std 4.613833197118566\n"
     ]
    }
   ],
   "source": [
    "maxval, minval, stdval = numpy.max(data), numpy.min(data), numpy.std(data)\n",
    "\n",
    "print(\"maximum\", maxval)\n",
    "print(\"minimum\", minval)\n",
    "print(\"std\", stdval)"
   ]
  },
  {
   "cell_type": "code",
   "execution_count": 34,
   "id": "9c7d3745-559b-403c-b13d-55dfb5a9694f",
   "metadata": {},
   "outputs": [
    {
     "name": "stdout",
     "output_type": "stream",
     "text": [
      "maximum inflammation patient 0 18.0\n"
     ]
    }
   ],
   "source": [
    "patient_0 = data[0, :]\n",
    "print(\"maximum inflammation patient 0\", numpy.max(patient_0))"
   ]
  },
  {
   "cell_type": "code",
   "execution_count": 35,
   "id": "990c9239-32da-4ba3-90f6-8b1f4c404706",
   "metadata": {},
   "outputs": [
    {
     "name": "stdout",
     "output_type": "stream",
     "text": [
      "[ 0.          0.45        1.11666667  1.75        2.43333333  3.15\n",
      "  3.8         3.88333333  5.23333333  5.51666667  5.95        5.9\n",
      "  8.35        7.73333333  8.36666667  9.5         9.58333333 10.63333333\n",
      " 11.56666667 12.35       13.25       11.96666667 11.03333333 10.16666667\n",
      " 10.          8.66666667  9.15        7.25        7.33333333  6.58333333\n",
      "  6.06666667  5.95        5.11666667  3.6         3.3         3.56666667\n",
      "  2.48333333  1.5         1.13333333  0.56666667]\n"
     ]
    }
   ],
   "source": [
    "# mean per day over all patients\n",
    "print(numpy.mean(data, axis=0))"
   ]
  },
  {
   "cell_type": "code",
   "execution_count": 36,
   "id": "37cb0c0e-8f09-4c0e-aabc-8a7821288217",
   "metadata": {},
   "outputs": [
    {
     "name": "stdout",
     "output_type": "stream",
     "text": [
      "(40,)\n"
     ]
    }
   ],
   "source": [
    "print(numpy.mean(data, axis=0).shape)"
   ]
  },
  {
   "cell_type": "code",
   "execution_count": 37,
   "id": "904f3231-e2d4-433d-ac48-6fc588832769",
   "metadata": {},
   "outputs": [
    {
     "name": "stdout",
     "output_type": "stream",
     "text": [
      "[5.45  5.425 6.1   5.9   5.55  6.225 5.975 6.65  6.625 6.525 6.775 5.8\n",
      " 6.225 5.75  5.225 6.3   6.55  5.7   5.85  6.55  5.775 5.825 6.175 6.1\n",
      " 5.8   6.425 6.05  6.025 6.175 6.55  6.175 6.35  6.725 6.125 7.075 5.725\n",
      " 5.925 6.15  6.075 5.75  5.975 5.725 6.3   5.9   6.75  5.925 7.225 6.15\n",
      " 5.95  6.275 5.7   6.1   6.825 5.975 6.725 5.7   6.25  6.4   7.05  5.9  ]\n"
     ]
    }
   ],
   "source": [
    "# average per patient over all days\n",
    "print(numpy.mean(data, axis=1))"
   ]
  },
  {
   "cell_type": "code",
   "execution_count": 38,
   "id": "8725f7df-dbcf-4b83-ad2c-68967657b4fd",
   "metadata": {},
   "outputs": [
    {
     "name": "stdout",
     "output_type": "stream",
     "text": [
      "(60,)\n"
     ]
    }
   ],
   "source": [
    "print(numpy.mean(data, axis=1).shape)"
   ]
  },
  {
   "cell_type": "markdown",
   "id": "62db6030-38ef-4bb6-8a3c-0d942c22ce9d",
   "metadata": {},
   "source": [
    "### Visualizing data"
   ]
  },
  {
   "cell_type": "code",
   "execution_count": null,
   "id": "b856cfcf-015c-414b-b468-5b91c6bbd6e9",
   "metadata": {},
   "outputs": [],
   "source": []
  }
 ],
 "metadata": {
  "kernelspec": {
   "display_name": "Python 3 (ipykernel)",
   "language": "python",
   "name": "python3"
  },
  "language_info": {
   "codemirror_mode": {
    "name": "ipython",
    "version": 3
   },
   "file_extension": ".py",
   "mimetype": "text/x-python",
   "name": "python",
   "nbconvert_exporter": "python",
   "pygments_lexer": "ipython3",
   "version": "3.8.8"
  }
 },
 "nbformat": 4,
 "nbformat_minor": 5
}
