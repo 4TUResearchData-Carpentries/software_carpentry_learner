{
 "cells": [
  {
   "cell_type": "markdown",
   "id": "0e2675ea-5d85-4982-b70c-263329aa893a",
   "metadata": {},
   "source": [
    "# Python part 1"
   ]
  },
  {
   "cell_type": "markdown",
   "id": "27ad8183-e738-45f1-a8d0-72719c4553a3",
   "metadata": {},
   "source": [
    "## Python fundamentals"
   ]
  },
  {
   "cell_type": "code",
   "execution_count": 2,
   "id": "05a831be-55ed-41e6-a198-684cd9f4275e",
   "metadata": {},
   "outputs": [
    {
     "data": {
      "text/plain": [
       "23"
      ]
     },
     "execution_count": 2,
     "metadata": {},
     "output_type": "execute_result"
    }
   ],
   "source": [
    "3 + 5 * 4"
   ]
  },
  {
   "cell_type": "code",
   "execution_count": 3,
   "id": "eb92d530-ee68-4e25-b65c-106c4e52e9a2",
   "metadata": {},
   "outputs": [],
   "source": [
    "weight_kg = 60 # integer"
   ]
  },
  {
   "cell_type": "markdown",
   "id": "9b932272-ec8e-4029-aad7-32be6637bfa5",
   "metadata": {},
   "source": [
    "### Types of data"
   ]
  },
  {
   "cell_type": "code",
   "execution_count": 4,
   "id": "ef25cc35-2f71-44cf-9721-43237509efb8",
   "metadata": {},
   "outputs": [],
   "source": [
    "weight_kg = 60.3 # floating point"
   ]
  },
  {
   "cell_type": "code",
   "execution_count": 5,
   "id": "186406e1-e8a5-45bf-9489-5e0b4326861a",
   "metadata": {},
   "outputs": [],
   "source": [
    "patient_id = \"001\""
   ]
  },
  {
   "cell_type": "code",
   "execution_count": 6,
   "id": "aafac288-4ba1-4e28-93fe-97fefd85729d",
   "metadata": {},
   "outputs": [],
   "source": [
    "weight_lb = 2.2 * weight_kg"
   ]
  },
  {
   "cell_type": "code",
   "execution_count": 7,
   "id": "157057c3-190f-45ac-af5d-89f5e9018ae9",
   "metadata": {},
   "outputs": [],
   "source": [
    "patient_id = \"patient_\" + patient_id"
   ]
  },
  {
   "cell_type": "code",
   "execution_count": 8,
   "id": "25047830-4c14-403f-b3a4-95a93e2b7a23",
   "metadata": {},
   "outputs": [
    {
     "name": "stdout",
     "output_type": "stream",
     "text": [
      "60.3\n"
     ]
    }
   ],
   "source": [
    "print(weight_kg)"
   ]
  },
  {
   "cell_type": "code",
   "execution_count": 9,
   "id": "0f10fe07-9993-48a1-ace1-480b2515292f",
   "metadata": {},
   "outputs": [
    {
     "name": "stdout",
     "output_type": "stream",
     "text": [
      "patient_001\n"
     ]
    }
   ],
   "source": [
    "print(patient_id)"
   ]
  },
  {
   "cell_type": "code",
   "execution_count": null,
   "id": "790bd4b4-a043-4858-806c-3cd9b0fa1c43",
   "metadata": {},
   "outputs": [],
   "source": [
    "print(patient_id)"
   ]
  }
 ],
 "metadata": {
  "kernelspec": {
   "display_name": "Python 3 (ipykernel)",
   "language": "python",
   "name": "python3"
  },
  "language_info": {
   "codemirror_mode": {
    "name": "ipython",
    "version": 3
   },
   "file_extension": ".py",
   "mimetype": "text/x-python",
   "name": "python",
   "nbconvert_exporter": "python",
   "pygments_lexer": "ipython3",
   "version": "3.8.8"
  }
 },
 "nbformat": 4,
 "nbformat_minor": 5
}
