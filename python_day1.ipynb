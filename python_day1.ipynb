{
 "cells": [
  {
   "cell_type": "markdown",
   "id": "0e2675ea-5d85-4982-b70c-263329aa893a",
   "metadata": {},
   "source": [
    "# Python part 1"
   ]
  },
  {
   "cell_type": "markdown",
   "id": "27ad8183-e738-45f1-a8d0-72719c4553a3",
   "metadata": {},
   "source": [
    "## Python fundamentals"
   ]
  },
  {
   "cell_type": "code",
   "execution_count": 2,
   "id": "05a831be-55ed-41e6-a198-684cd9f4275e",
   "metadata": {},
   "outputs": [
    {
     "data": {
      "text/plain": [
       "23"
      ]
     },
     "execution_count": 2,
     "metadata": {},
     "output_type": "execute_result"
    }
   ],
   "source": [
    "3 + 5 * 4"
   ]
  },
  {
   "cell_type": "code",
   "execution_count": 3,
   "id": "eb92d530-ee68-4e25-b65c-106c4e52e9a2",
   "metadata": {},
   "outputs": [],
   "source": [
    "weight_kg = 60 # integer"
   ]
  },
  {
   "cell_type": "markdown",
   "id": "9b932272-ec8e-4029-aad7-32be6637bfa5",
   "metadata": {},
   "source": [
    "### Types of data"
   ]
  },
  {
   "cell_type": "code",
   "execution_count": 4,
   "id": "ef25cc35-2f71-44cf-9721-43237509efb8",
   "metadata": {},
   "outputs": [],
   "source": [
    "weight_kg = 60.3 # floating point"
   ]
  },
  {
   "cell_type": "code",
   "execution_count": 5,
   "id": "186406e1-e8a5-45bf-9489-5e0b4326861a",
   "metadata": {},
   "outputs": [],
   "source": [
    "patient_id = \"001\" # string"
   ]
  },
  {
   "cell_type": "code",
   "execution_count": 6,
   "id": "aafac288-4ba1-4e28-93fe-97fefd85729d",
   "metadata": {},
   "outputs": [],
   "source": [
    "weight_lb = 2.2 * weight_kg"
   ]
  },
  {
   "cell_type": "code",
   "execution_count": 7,
   "id": "157057c3-190f-45ac-af5d-89f5e9018ae9",
   "metadata": {},
   "outputs": [],
   "source": [
    "patient_id = \"patient_\" + patient_id"
   ]
  },
  {
   "cell_type": "code",
   "execution_count": 8,
   "id": "25047830-4c14-403f-b3a4-95a93e2b7a23",
   "metadata": {},
   "outputs": [
    {
     "name": "stdout",
     "output_type": "stream",
     "text": [
      "60.3\n"
     ]
    }
   ],
   "source": [
    "print(weight_kg)"
   ]
  },
  {
   "cell_type": "code",
   "execution_count": 9,
   "id": "0f10fe07-9993-48a1-ace1-480b2515292f",
   "metadata": {},
   "outputs": [
    {
     "name": "stdout",
     "output_type": "stream",
     "text": [
      "patient_001\n"
     ]
    }
   ],
   "source": [
    "print(patient_id)"
   ]
  },
  {
   "cell_type": "code",
   "execution_count": 10,
   "id": "790bd4b4-a043-4858-806c-3cd9b0fa1c43",
   "metadata": {},
   "outputs": [
    {
     "name": "stdout",
     "output_type": "stream",
     "text": [
      "patient_001 weight in kilograms: 60.3\n"
     ]
    }
   ],
   "source": [
    "print(patient_id, \"weight in kilograms:\", weight_kg)"
   ]
  },
  {
   "cell_type": "code",
   "execution_count": 11,
   "id": "0dd04d11-32a6-47bf-bdd8-c6c650c16d46",
   "metadata": {},
   "outputs": [
    {
     "name": "stdout",
     "output_type": "stream",
     "text": [
      "<class 'float'>\n"
     ]
    }
   ],
   "source": [
    "print(type(weight_kg))"
   ]
  },
  {
   "cell_type": "code",
   "execution_count": 12,
   "id": "60a00bf9-b42e-4950-a33b-0c242e887e34",
   "metadata": {},
   "outputs": [
    {
     "name": "stdout",
     "output_type": "stream",
     "text": [
      "<class 'str'>\n"
     ]
    }
   ],
   "source": [
    "print(type(patient_id))"
   ]
  },
  {
   "cell_type": "code",
   "execution_count": 13,
   "id": "32728eb1-a287-4ea3-91c3-560fa4263b80",
   "metadata": {},
   "outputs": [
    {
     "name": "stdout",
     "output_type": "stream",
     "text": [
      "<class 'float'>\n"
     ]
    }
   ],
   "source": [
    "x = 4 / 3\n",
    "print(type(x))"
   ]
  },
  {
   "cell_type": "markdown",
   "id": "a4049e60-ce1f-4a0f-8a20-eb2cb94518bf",
   "metadata": {},
   "source": [
    "### Python lists"
   ]
  },
  {
   "cell_type": "code",
   "execution_count": 14,
   "id": "158b37f6-7e8e-41f6-ad03-f41d8c8f1a04",
   "metadata": {},
   "outputs": [
    {
     "name": "stdout",
     "output_type": "stream",
     "text": [
      "odds are: [1, 3, 5, 7]\n"
     ]
    }
   ],
   "source": [
    "odds = [1, 3, 5, 7]\n",
    "print(\"odds are:\", odds)"
   ]
  },
  {
   "cell_type": "code",
   "execution_count": 15,
   "id": "fe73598f-875d-49d5-b380-777124088364",
   "metadata": {},
   "outputs": [
    {
     "name": "stdout",
     "output_type": "stream",
     "text": [
      "first element: 1\n"
     ]
    }
   ],
   "source": [
    "# Accessing elements through indexing\n",
    "print(\"first element:\", odds[0])"
   ]
  },
  {
   "cell_type": "code",
   "execution_count": 16,
   "id": "6b6cbedd-9b03-466c-b821-80255dacd5db",
   "metadata": {},
   "outputs": [
    {
     "name": "stdout",
     "output_type": "stream",
     "text": [
      "last element: 7\n"
     ]
    }
   ],
   "source": [
    "print(\"last element:\", odds[3])"
   ]
  },
  {
   "cell_type": "code",
   "execution_count": 17,
   "id": "933889d9-241a-4348-a8a4-a5213ed743a2",
   "metadata": {},
   "outputs": [
    {
     "name": "stdout",
     "output_type": "stream",
     "text": [
      "['Curie', 'Darwing', 'Turing']\n"
     ]
    }
   ],
   "source": [
    "names = [\"Curie\", \"Darwing\", \"Turing\"]\n",
    "print(names)"
   ]
  },
  {
   "cell_type": "code",
   "execution_count": 18,
   "id": "5bdb5293-ea39-417e-b7e2-4619942fdf8e",
   "metadata": {},
   "outputs": [
    {
     "name": "stdout",
     "output_type": "stream",
     "text": [
      "['Curie', 'Darwin', 'Turing']\n"
     ]
    }
   ],
   "source": [
    "names[1] = \"Darwin\"\n",
    "print(names)"
   ]
  },
  {
   "cell_type": "markdown",
   "id": "fd1b7e65-bc78-403a-90f5-b0a9b80f8e28",
   "metadata": {},
   "source": [
    "#### Careful with mutable data"
   ]
  },
  {
   "cell_type": "code",
   "execution_count": null,
   "id": "ad13e5ca-6431-4c99-a796-3456b1d88113",
   "metadata": {},
   "outputs": [],
   "source": []
  }
 ],
 "metadata": {
  "kernelspec": {
   "display_name": "Python 3 (ipykernel)",
   "language": "python",
   "name": "python3"
  },
  "language_info": {
   "codemirror_mode": {
    "name": "ipython",
    "version": 3
   },
   "file_extension": ".py",
   "mimetype": "text/x-python",
   "name": "python",
   "nbconvert_exporter": "python",
   "pygments_lexer": "ipython3",
   "version": "3.8.8"
  }
 },
 "nbformat": 4,
 "nbformat_minor": 5
}
