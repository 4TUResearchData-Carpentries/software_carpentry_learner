{
 "cells": [
  {
   "cell_type": "markdown",
   "id": "ac515a19-c932-48c9-a9b6-6595a45dcac9",
   "metadata": {},
   "source": [
    "# Python day 2"
   ]
  },
  {
   "cell_type": "markdown",
   "id": "c7ba30cd-db99-4071-aa9c-ca7242dadb2e",
   "metadata": {},
   "source": [
    "## Making choices"
   ]
  },
  {
   "cell_type": "code",
   "execution_count": 1,
   "id": "a660b4a2-d786-4931-ba13-5e275488bc93",
   "metadata": {},
   "outputs": [
    {
     "name": "stdout",
     "output_type": "stream",
     "text": [
      "not greater\n",
      "done\n"
     ]
    }
   ],
   "source": [
    "# if-statement\n",
    "num = 37\n",
    "if num > 100:\n",
    "    print(\"greater\")\n",
    "else:\n",
    "    print(\"not greater\")\n",
    "print(\"done\")"
   ]
  },
  {
   "cell_type": "code",
   "execution_count": 2,
   "id": "73829259-23aa-4df9-9d14-905a5004b7cc",
   "metadata": {},
   "outputs": [
    {
     "name": "stdout",
     "output_type": "stream",
     "text": [
      "before conditional\n",
      "after conditional\n"
     ]
    }
   ],
   "source": [
    "# If-statements don't require an else\n",
    "num = 57\n",
    "print(\"before conditional\")\n",
    "if num > 100:\n",
    "    print(num, \"is greater than 100\")\n",
    "print(\"after conditional\")"
   ]
  },
  {
   "cell_type": "code",
   "execution_count": null,
   "id": "8da70d62-87b3-4f01-8829-a14ba71ba0fd",
   "metadata": {},
   "outputs": [],
   "source": []
  }
 ],
 "metadata": {
  "kernelspec": {
   "display_name": "Python 3 (ipykernel)",
   "language": "python",
   "name": "python3"
  },
  "language_info": {
   "codemirror_mode": {
    "name": "ipython",
    "version": 3
   },
   "file_extension": ".py",
   "mimetype": "text/x-python",
   "name": "python",
   "nbconvert_exporter": "python",
   "pygments_lexer": "ipython3",
   "version": "3.8.8"
  }
 },
 "nbformat": 4,
 "nbformat_minor": 5
}
