{
 "cells": [
  {
   "cell_type": "markdown",
   "id": "ac515a19-c932-48c9-a9b6-6595a45dcac9",
   "metadata": {},
   "source": [
    "# Python day 2"
   ]
  },
  {
   "cell_type": "markdown",
   "id": "c7ba30cd-db99-4071-aa9c-ca7242dadb2e",
   "metadata": {},
   "source": [
    "## Making choices"
   ]
  },
  {
   "cell_type": "code",
   "execution_count": 1,
   "id": "a660b4a2-d786-4931-ba13-5e275488bc93",
   "metadata": {},
   "outputs": [
    {
     "name": "stdout",
     "output_type": "stream",
     "text": [
      "not greater\n",
      "done\n"
     ]
    }
   ],
   "source": [
    "# if-statement\n",
    "num = 37\n",
    "if num > 100:\n",
    "    print(\"greater\")\n",
    "else:\n",
    "    print(\"not greater\")\n",
    "print(\"done\")"
   ]
  },
  {
   "cell_type": "code",
   "execution_count": 2,
   "id": "73829259-23aa-4df9-9d14-905a5004b7cc",
   "metadata": {},
   "outputs": [
    {
     "name": "stdout",
     "output_type": "stream",
     "text": [
      "before conditional\n",
      "after conditional\n"
     ]
    }
   ],
   "source": [
    "# If-statements don't require an else\n",
    "num = 57\n",
    "print(\"before conditional\")\n",
    "if num > 100:\n",
    "    print(num, \"is greater than 100\")\n",
    "print(\"after conditional\")"
   ]
  },
  {
   "cell_type": "code",
   "execution_count": 7,
   "id": "8da70d62-87b3-4f01-8829-a14ba71ba0fd",
   "metadata": {},
   "outputs": [
    {
     "name": "stdout",
     "output_type": "stream",
     "text": [
      "-3 is negative\n"
     ]
    }
   ],
   "source": [
    "# Chain multiple if-statements\n",
    "num = -3\n",
    "\n",
    "if num > 0:\n",
    "    print(num, \"is positive\")\n",
    "elif num == 0:\n",
    "    print(num, \"is zero\")\n",
    "else:\n",
    "    print(num, \"is negative\")\n",
    "    "
   ]
  },
  {
   "cell_type": "code",
   "execution_count": 8,
   "id": "e6f43997-8a79-4e46-b0c7-92f8899bc49a",
   "metadata": {},
   "outputs": [
    {
     "name": "stdout",
     "output_type": "stream",
     "text": [
      "at least on part is false\n"
     ]
    }
   ],
   "source": [
    "# Combine comparisons with and\n",
    "if (1 > 0) and (-1 >= 0):\n",
    "    print(\"both parts are true\")\n",
    "else:\n",
    "    print(\"at least on part is false\")"
   ]
  },
  {
   "cell_type": "code",
   "execution_count": 9,
   "id": "a2799df1-5e8e-4816-b937-31e5933f52ab",
   "metadata": {},
   "outputs": [
    {
     "name": "stdout",
     "output_type": "stream",
     "text": [
      "at least on test is true\n"
     ]
    }
   ],
   "source": [
    "# Combine with or\n",
    "if (1 > 0) or (-1 >= 0):\n",
    "    print(\"at least on test is true\")"
   ]
  },
  {
   "cell_type": "markdown",
   "id": "c60d9d4a-807d-47b8-bde6-a21b0c0c5544",
   "metadata": {},
   "source": [
    "## Checking our data"
   ]
  },
  {
   "cell_type": "code",
   "execution_count": 10,
   "id": "e24a0da5-746b-463e-8f23-21f1d18bd016",
   "metadata": {},
   "outputs": [],
   "source": [
    "import numpy"
   ]
  },
  {
   "cell_type": "code",
   "execution_count": 11,
   "id": "3f82dc11-784d-4936-89c6-1886c54e9c55",
   "metadata": {},
   "outputs": [],
   "source": [
    "data = numpy.loadtxt(fname=\"data/inflammation-01.csv\", delimiter=\",\")"
   ]
  },
  {
   "cell_type": "code",
   "execution_count": 12,
   "id": "8e072c69-fd16-4c55-acf2-6341ce3269f7",
   "metadata": {},
   "outputs": [
    {
     "name": "stdout",
     "output_type": "stream",
     "text": [
      "[ 0.  1.  2.  3.  4.  5.  6.  7.  8.  9. 10. 11. 12. 13. 14. 15. 16. 17.\n",
      " 18. 19. 20. 19. 18. 17. 16. 15. 14. 13. 12. 11. 10.  9.  8.  7.  6.  5.\n",
      "  4.  3.  2.  1.]\n"
     ]
    }
   ],
   "source": [
    "max_inflammation = numpy.max(data, axis=0)\n",
    "print(max_inflammation)"
   ]
  },
  {
   "cell_type": "code",
   "execution_count": 14,
   "id": "3551960e-98ae-4263-982f-cd3f681a30a6",
   "metadata": {},
   "outputs": [
    {
     "name": "stdout",
     "output_type": "stream",
     "text": [
      "Suspicious looking maxima!\n"
     ]
    }
   ],
   "source": [
    "# Check that day_0 == 0 and day_20 == 20\n",
    "if (max_inflammation[0] == 0) and (max_inflammation[20] == 20):\n",
    "    print(\"Suspicious looking maxima!\")"
   ]
  },
  {
   "cell_type": "code",
   "execution_count": 15,
   "id": "7b369523-6ebc-4efe-b0b6-e0576b1106fa",
   "metadata": {},
   "outputs": [],
   "source": [
    "data = numpy.loadtxt(fname=\"data/inflammation-03.csv\", delimiter=\",\")"
   ]
  },
  {
   "cell_type": "code",
   "execution_count": 16,
   "id": "69332069-7eb6-403b-ad77-39f559c5ad13",
   "metadata": {},
   "outputs": [
    {
     "name": "stdout",
     "output_type": "stream",
     "text": [
      "[0. 0. 0. 0. 0. 0. 0. 0. 0. 0. 0. 0. 0. 0. 0. 0. 0. 0. 0. 0. 0. 0. 0. 0.\n",
      " 0. 0. 0. 0. 0. 0. 0. 0. 0. 0. 0. 0. 0. 0. 0. 0.]\n"
     ]
    }
   ],
   "source": [
    "min_inflammation = numpy.min(data, axis=0)\n",
    "print(min_inflammation)"
   ]
  },
  {
   "cell_type": "code",
   "execution_count": 17,
   "id": "fc482604-9509-43c2-b48c-9f9caca4a1cb",
   "metadata": {},
   "outputs": [
    {
     "name": "stdout",
     "output_type": "stream",
     "text": [
      "Minima add up to zero\n"
     ]
    }
   ],
   "source": [
    "# Let's use sum == 0\n",
    "if numpy.sum(min_inflammation) == 0:\n",
    "    print(\"Minima add up to zero\")"
   ]
  },
  {
   "cell_type": "markdown",
   "id": "c6f4fedb-7681-4724-8dc2-8e5f9e3d51a5",
   "metadata": {},
   "source": [
    "## Creating functions"
   ]
  },
  {
   "cell_type": "code",
   "execution_count": 18,
   "id": "c1ad24aa-bcc5-4924-8ae8-88a2e99891ea",
   "metadata": {},
   "outputs": [],
   "source": [
    "def fahr_to_celsius(temp_F):\n",
    "    temp_C = (temp_F - 32) * (5/9)\n",
    "    return temp_C"
   ]
  },
  {
   "cell_type": "code",
   "execution_count": 19,
   "id": "c1e42e05-ae0a-4283-8e26-3f0bef362b7a",
   "metadata": {},
   "outputs": [
    {
     "data": {
      "text/plain": [
       "0.0"
      ]
     },
     "execution_count": 19,
     "metadata": {},
     "output_type": "execute_result"
    }
   ],
   "source": [
    "fahr_to_celsius(32)"
   ]
  },
  {
   "cell_type": "code",
   "execution_count": 20,
   "id": "3e8fdab0-17e5-45d1-8caf-ba3e957d24cb",
   "metadata": {},
   "outputs": [],
   "source": [
    "# Second example to convert Celsius to Kelvin\n",
    "def celsius_to_kelvin(temp_C):\n",
    "    return temp_C + 273.15"
   ]
  },
  {
   "cell_type": "code",
   "execution_count": 21,
   "id": "691d5219-47bb-4771-9f87-7b82e6940cca",
   "metadata": {},
   "outputs": [
    {
     "name": "stdout",
     "output_type": "stream",
     "text": [
      "freezing point of water in Kelvin: 273.15\n"
     ]
    }
   ],
   "source": [
    "print(\"freezing point of water in Kelvin:\", celsius_to_kelvin(0))"
   ]
  },
  {
   "cell_type": "code",
   "execution_count": 24,
   "id": "8ff0d769-0181-4414-91ff-ea15698e2edc",
   "metadata": {},
   "outputs": [],
   "source": [
    "def fahr_to_kelvin(temp_F):\n",
    "    temp_C = fahr_to_celsius(temp_F)\n",
    "    temp_K = celsius_to_kelvin(temp_C)\n",
    "    return temp_K"
   ]
  },
  {
   "cell_type": "code",
   "execution_count": 25,
   "id": "bbafd7c5-f1d0-4706-b7e6-d53bc37f835e",
   "metadata": {},
   "outputs": [
    {
     "name": "stdout",
     "output_type": "stream",
     "text": [
      "boiling point of water in Kelvin: 373.15\n"
     ]
    }
   ],
   "source": [
    "print(\"boiling point of water in Kelvin:\", fahr_to_kelvin(212))"
   ]
  },
  {
   "cell_type": "code",
   "execution_count": 28,
   "id": "73f2a1c5-81ac-4274-8ebd-f93161049485",
   "metadata": {},
   "outputs": [
    {
     "name": "stdout",
     "output_type": "stream",
     "text": [
      "Temperature in Kelvin was: 373.15\n"
     ]
    }
   ],
   "source": [
    "print(\"Temperature in Kelvin was:\", temp_K)"
   ]
  },
  {
   "cell_type": "code",
   "execution_count": 27,
   "id": "6eb7463f-94e4-47e2-bc96-bc24817f83d0",
   "metadata": {},
   "outputs": [],
   "source": [
    "temp_K = fahr_to_kelvin(212)"
   ]
  },
  {
   "cell_type": "markdown",
   "id": "c731412c-56d5-4f43-844c-b7f7a66d4f42",
   "metadata": {},
   "source": [
    "## Errors and exceptions"
   ]
  },
  {
   "cell_type": "code",
   "execution_count": 31,
   "id": "5199b99f-ddfb-42f2-8ca1-7f0c98755864",
   "metadata": {},
   "outputs": [
    {
     "ename": "IndexError",
     "evalue": "list index out of range",
     "output_type": "error",
     "traceback": [
      "\u001b[1;31m---------------------------------------------------------------------------\u001b[0m",
      "\u001b[1;31mIndexError\u001b[0m                                Traceback (most recent call last)",
      "\u001b[1;32m~\\AppData\\Local\\Temp/ipykernel_15196/2545484755.py\u001b[0m in \u001b[0;36m<module>\u001b[1;34m\u001b[0m\n\u001b[0;32m      3\u001b[0m     \u001b[0mprint\u001b[0m\u001b[1;33m(\u001b[0m\u001b[0mice_cream\u001b[0m\u001b[1;33m[\u001b[0m\u001b[1;36m3\u001b[0m\u001b[1;33m]\u001b[0m\u001b[1;33m)\u001b[0m\u001b[1;33m\u001b[0m\u001b[1;33m\u001b[0m\u001b[0m\n\u001b[0;32m      4\u001b[0m \u001b[1;33m\u001b[0m\u001b[0m\n\u001b[1;32m----> 5\u001b[1;33m \u001b[0mfavorite_ice_cream\u001b[0m\u001b[1;33m(\u001b[0m\u001b[1;33m)\u001b[0m\u001b[1;33m\u001b[0m\u001b[1;33m\u001b[0m\u001b[0m\n\u001b[0m",
      "\u001b[1;32m~\\AppData\\Local\\Temp/ipykernel_15196/2545484755.py\u001b[0m in \u001b[0;36mfavorite_ice_cream\u001b[1;34m()\u001b[0m\n\u001b[0;32m      1\u001b[0m \u001b[1;32mdef\u001b[0m \u001b[0mfavorite_ice_cream\u001b[0m\u001b[1;33m(\u001b[0m\u001b[1;33m)\u001b[0m\u001b[1;33m:\u001b[0m\u001b[1;33m\u001b[0m\u001b[1;33m\u001b[0m\u001b[0m\n\u001b[0;32m      2\u001b[0m     \u001b[0mice_cream\u001b[0m \u001b[1;33m=\u001b[0m \u001b[1;33m[\u001b[0m\u001b[1;34m\"chocolate\"\u001b[0m\u001b[1;33m,\u001b[0m \u001b[1;34m\"vanilla\"\u001b[0m\u001b[1;33m,\u001b[0m \u001b[1;34m\"strawberry\"\u001b[0m\u001b[1;33m]\u001b[0m\u001b[1;33m\u001b[0m\u001b[1;33m\u001b[0m\u001b[0m\n\u001b[1;32m----> 3\u001b[1;33m     \u001b[0mprint\u001b[0m\u001b[1;33m(\u001b[0m\u001b[0mice_cream\u001b[0m\u001b[1;33m[\u001b[0m\u001b[1;36m3\u001b[0m\u001b[1;33m]\u001b[0m\u001b[1;33m)\u001b[0m\u001b[1;33m\u001b[0m\u001b[1;33m\u001b[0m\u001b[0m\n\u001b[0m\u001b[0;32m      4\u001b[0m \u001b[1;33m\u001b[0m\u001b[0m\n\u001b[0;32m      5\u001b[0m \u001b[0mfavorite_ice_cream\u001b[0m\u001b[1;33m(\u001b[0m\u001b[1;33m)\u001b[0m\u001b[1;33m\u001b[0m\u001b[1;33m\u001b[0m\u001b[0m\n",
      "\u001b[1;31mIndexError\u001b[0m: list index out of range"
     ]
    }
   ],
   "source": [
    "def favorite_ice_cream():\n",
    "    ice_cream = [\"chocolate\", \"vanilla\", \"strawberry\"]\n",
    "    print(ice_cream[3])\n",
    "    \n",
    "favorite_ice_cream()"
   ]
  },
  {
   "cell_type": "markdown",
   "id": "69c58e3a-5c2f-438f-928a-8b9ffd777156",
   "metadata": {},
   "source": [
    "## Defensive programming"
   ]
  },
  {
   "cell_type": "code",
   "execution_count": null,
   "id": "cea27c11-719a-4934-a554-28f6c5e43360",
   "metadata": {},
   "outputs": [],
   "source": []
  }
 ],
 "metadata": {
  "kernelspec": {
   "display_name": "Python 3 (ipykernel)",
   "language": "python",
   "name": "python3"
  },
  "language_info": {
   "codemirror_mode": {
    "name": "ipython",
    "version": 3
   },
   "file_extension": ".py",
   "mimetype": "text/x-python",
   "name": "python",
   "nbconvert_exporter": "python",
   "pygments_lexer": "ipython3",
   "version": "3.8.8"
  }
 },
 "nbformat": 4,
 "nbformat_minor": 5
}
