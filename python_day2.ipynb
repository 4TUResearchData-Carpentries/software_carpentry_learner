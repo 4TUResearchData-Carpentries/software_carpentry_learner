{
 "cells": [
  {
   "cell_type": "markdown",
   "id": "ac515a19-c932-48c9-a9b6-6595a45dcac9",
   "metadata": {},
   "source": [
    "# Python day 2"
   ]
  },
  {
   "cell_type": "markdown",
   "id": "c7ba30cd-db99-4071-aa9c-ca7242dadb2e",
   "metadata": {},
   "source": [
    "## Making choices\n",
    "\n",
    "In our last lesson, we discovered something suspicious was going on in our inflammation data by drawing some plots. How can we use Python to automatically recognize the different features we saw, and take a different action for each? In this lesson, we’ll learn how to write code that runs only when certain conditions are true.In our last lesson, we discovered something suspicious was going on in our inflammation data by drawing some plots. How can we use Python to automatically recognize the different features we saw, and take a different action for each? In this lesson, we’ll learn how to write code that runs only when certain conditions are true."
   ]
  },
  {
   "cell_type": "code",
   "execution_count": 1,
   "id": "a660b4a2-d786-4931-ba13-5e275488bc93",
   "metadata": {},
   "outputs": [
    {
     "name": "stdout",
     "output_type": "stream",
     "text": [
      "not greater\n",
      "done\n"
     ]
    }
   ],
   "source": [
    "# if-statement\n",
    "num = 37\n",
    "if num > 100:\n",
    "    print(\"greater\")\n",
    "else:\n",
    "    print(\"not greater\")\n",
    "print(\"done\")"
   ]
  },
  {
   "cell_type": "code",
   "execution_count": 2,
   "id": "73829259-23aa-4df9-9d14-905a5004b7cc",
   "metadata": {},
   "outputs": [
    {
     "name": "stdout",
     "output_type": "stream",
     "text": [
      "before conditional\n",
      "after conditional\n"
     ]
    }
   ],
   "source": [
    "# If-statements don't require an else\n",
    "num = 57\n",
    "print(\"before conditional\")\n",
    "if num > 100:\n",
    "    print(num, \"is greater than 100\")\n",
    "print(\"after conditional\")"
   ]
  },
  {
   "cell_type": "markdown",
   "id": "d48eb876-7e16-4919-b483-8ae2a06130f9",
   "metadata": {},
   "source": [
    "Consider conditional statements carefully to check which conditions are considered and you would like to consider. In the above example, `num < 100` is not triggered. Sometimes this is the behaviour you want, othertimes you are missing specific conditions:\n",
    "\n",
    "- What if num is < 100?\n",
    "- What if num is complex?\n",
    "- What is num is negative?\n",
    "- What if num is a string?"
   ]
  },
  {
   "cell_type": "code",
   "execution_count": 7,
   "id": "8da70d62-87b3-4f01-8829-a14ba71ba0fd",
   "metadata": {},
   "outputs": [
    {
     "name": "stdout",
     "output_type": "stream",
     "text": [
      "-3 is negative\n"
     ]
    }
   ],
   "source": [
    "# Chain multiple if-statements\n",
    "num = -3\n",
    "\n",
    "if num > 0:\n",
    "    print(num, \"is positive\")\n",
    "elif num == 0:\n",
    "    print(num, \"is zero\")\n",
    "else:\n",
    "    print(num, \"is negative\")\n",
    "    "
   ]
  },
  {
   "cell_type": "markdown",
   "id": "8e6ccec3-9d02-4828-a7b5-39239de79ec9",
   "metadata": {},
   "source": [
    "We can also combine tests using `and` and `or`. `and` is only true if both parts are true:"
   ]
  },
  {
   "cell_type": "code",
   "execution_count": 8,
   "id": "e6f43997-8a79-4e46-b0c7-92f8899bc49a",
   "metadata": {},
   "outputs": [
    {
     "name": "stdout",
     "output_type": "stream",
     "text": [
      "at least on part is false\n"
     ]
    }
   ],
   "source": [
    "# Combine comparisons with and\n",
    "if (1 > 0) and (-1 >= 0):\n",
    "    print(\"both parts are true\")\n",
    "else:\n",
    "    print(\"at least on part is false\")"
   ]
  },
  {
   "cell_type": "code",
   "execution_count": 9,
   "id": "a2799df1-5e8e-4816-b937-31e5933f52ab",
   "metadata": {},
   "outputs": [
    {
     "name": "stdout",
     "output_type": "stream",
     "text": [
      "at least on test is true\n"
     ]
    }
   ],
   "source": [
    "# Combine with or\n",
    "if (1 > 0) or (-1 >= 0):\n",
    "    print(\"at least on test is true\")"
   ]
  },
  {
   "cell_type": "markdown",
   "id": "c60d9d4a-807d-47b8-bde6-a21b0c0c5544",
   "metadata": {},
   "source": [
    "## Checking our data\n",
    "\n",
    "1. Let's rerun the `inflammation_analysis.ipynb` \n",
    "1. Discuss data \n",
    "\n",
    "Let's catch the suspicious data\n"
   ]
  },
  {
   "cell_type": "markdown",
   "id": "46482b6e-05bc-4862-9f30-4395ce653937",
   "metadata": {},
   "source": [
    "From the first couple of plots, we saw that maximum daily inflammation exhibits a strange behavior and raises one unit a day. Wouldn’t it be a good idea to detect such behavior and report it as suspicious? Let’s do that! First, we should obtain the suspicious data:"
   ]
  },
  {
   "cell_type": "code",
   "execution_count": 10,
   "id": "e24a0da5-746b-463e-8f23-21f1d18bd016",
   "metadata": {},
   "outputs": [],
   "source": [
    "import numpy"
   ]
  },
  {
   "cell_type": "code",
   "execution_count": 11,
   "id": "3f82dc11-784d-4936-89c6-1886c54e9c55",
   "metadata": {},
   "outputs": [],
   "source": [
    "data = numpy.loadtxt(fname=\"data/inflammation-01.csv\", delimiter=\",\")"
   ]
  },
  {
   "cell_type": "code",
   "execution_count": 12,
   "id": "8e072c69-fd16-4c55-acf2-6341ce3269f7",
   "metadata": {},
   "outputs": [
    {
     "name": "stdout",
     "output_type": "stream",
     "text": [
      "[ 0.  1.  2.  3.  4.  5.  6.  7.  8.  9. 10. 11. 12. 13. 14. 15. 16. 17.\n",
      " 18. 19. 20. 19. 18. 17. 16. 15. 14. 13. 12. 11. 10.  9.  8.  7.  6.  5.\n",
      "  4.  3.  2.  1.]\n"
     ]
    }
   ],
   "source": [
    "max_inflammation = numpy.max(data, axis=0)\n",
    "print(max_inflammation)"
   ]
  },
  {
   "cell_type": "markdown",
   "id": "ddeb7b46-c0f8-4f91-9b63-ebccd19dd274",
   "metadata": {},
   "source": [
    "However, instead of checking every single day of the study, let’s merely check if maximum inflammation in the beginning (day 0) and in the middle (day 20) of the study are equal to the corresponding day numbers."
   ]
  },
  {
   "cell_type": "code",
   "execution_count": 14,
   "id": "3551960e-98ae-4263-982f-cd3f681a30a6",
   "metadata": {},
   "outputs": [
    {
     "name": "stdout",
     "output_type": "stream",
     "text": [
      "Suspicious looking maxima!\n"
     ]
    }
   ],
   "source": [
    "# Check that day_0 == 0 and day_20 == 20\n",
    "if (max_inflammation[0] == 0) and (max_inflammation[20] == 20):\n",
    "    print(\"Suspicious looking maxima!\")"
   ]
  },
  {
   "cell_type": "code",
   "execution_count": 15,
   "id": "7b369523-6ebc-4efe-b0b6-e0576b1106fa",
   "metadata": {},
   "outputs": [],
   "source": [
    "data = numpy.loadtxt(fname=\"data/inflammation-03.csv\", delimiter=\",\")"
   ]
  },
  {
   "cell_type": "code",
   "execution_count": 16,
   "id": "69332069-7eb6-403b-ad77-39f559c5ad13",
   "metadata": {},
   "outputs": [
    {
     "name": "stdout",
     "output_type": "stream",
     "text": [
      "[0. 0. 0. 0. 0. 0. 0. 0. 0. 0. 0. 0. 0. 0. 0. 0. 0. 0. 0. 0. 0. 0. 0. 0.\n",
      " 0. 0. 0. 0. 0. 0. 0. 0. 0. 0. 0. 0. 0. 0. 0. 0.]\n"
     ]
    }
   ],
   "source": [
    "min_inflammation = numpy.min(data, axis=0)\n",
    "print(min_inflammation)"
   ]
  },
  {
   "cell_type": "markdown",
   "id": "2bc11e8b-ad86-4e23-9f25-05205573f6b4",
   "metadata": {},
   "source": [
    "We also saw a different problem in the third dataset; the minima per day were all zero (looks like a healthy person snuck into our study). We can also check for this with an `elif` condition:"
   ]
  },
  {
   "cell_type": "code",
   "execution_count": 17,
   "id": "fc482604-9509-43c2-b48c-9f9caca4a1cb",
   "metadata": {},
   "outputs": [
    {
     "name": "stdout",
     "output_type": "stream",
     "text": [
      "Minima add up to zero\n"
     ]
    }
   ],
   "source": [
    "# Let's use sum == 0\n",
    "if numpy.sum(min_inflammation) == 0:\n",
    "    print(\"Minima add up to zero\")"
   ]
  },
  {
   "cell_type": "markdown",
   "id": "8f426c31-31b6-4a50-ad4d-ca1fa1c39380",
   "metadata": {},
   "source": [
    "### Optional: Let's test all our datasets\n",
    "\n",
    "1. Find files\n",
    "1. Create for-loop over filenames\n",
    "1. Load data\n",
    "1. Test data"
   ]
  },
  {
   "cell_type": "code",
   "execution_count": 43,
   "id": "a24d9092-127d-428c-8738-77dea22fe4b3",
   "metadata": {},
   "outputs": [
    {
     "name": "stdout",
     "output_type": "stream",
     "text": [
      "Suspicious looking maxima in: data\\inflammation-01.csv\n",
      "Suspicious looking maxima in: data\\inflammation-02.csv\n",
      "Minima add up to zero in: data\\inflammation-03.csv\n",
      "Suspicious looking maxima in: data\\inflammation-04.csv\n",
      "Suspicious looking maxima in: data\\inflammation-05.csv\n",
      "Suspicious looking maxima in: data\\inflammation-06.csv\n",
      "Suspicious looking maxima in: data\\inflammation-07.csv\n",
      "Minima add up to zero in: data\\inflammation-08.csv\n",
      "Suspicious looking maxima in: data\\inflammation-09.csv\n",
      "Suspicious looking maxima in: data\\inflammation-10.csv\n",
      "Minima add up to zero in: data\\inflammation-11.csv\n",
      "Suspicious looking maxima in: data\\inflammation-12.csv\n"
     ]
    }
   ],
   "source": [
    "import glob\n",
    "import numpy\n",
    "\n",
    "filenames = glob.glob('data/inflammation*.csv')\n",
    "for filename in filenames:\n",
    "    data = numpy.loadtxt(fname=filename, delimiter=',')\n",
    "    \n",
    "    # Data to test\n",
    "    max_inflammation = numpy.max(data, axis=0)\n",
    "    min_inflammation = numpy.min(data, axis=0)\n",
    "    \n",
    "    if (max_inflammation[0] == 0) and (max_inflammation[20] == 20):\n",
    "        print('Suspicious looking maxima in:', filename) \n",
    "    elif numpy.sum(min_inflammation) == 0:\n",
    "        print('Minima add up to zero in:', filename) \n",
    "    else:\n",
    "        print(filename, ' looks OK') "
   ]
  },
  {
   "cell_type": "markdown",
   "id": "567f0547-c518-4a22-b485-4710933ac298",
   "metadata": {},
   "source": [
    "In this way, we have asked Python to do something different depending on the condition of our data. Here we printed messages in all cases, but we could also imagine not using the `else` catch-all so that messages are only printed when something is wrong, freeing us from having to manually examine every plot for features we’ve seen before."
   ]
  },
  {
   "cell_type": "markdown",
   "id": "c6f4fedb-7681-4724-8dc2-8e5f9e3d51a5",
   "metadata": {},
   "source": [
    "## Creating functions\n",
    "\n",
    "At this point, we’ve written code to draw some interesting features in our inflammation data, loop over all our data files to quickly draw these plots for each of them, and have Python make decisions based on what it sees in our data. But, our code is getting pretty long and complicated; what if we had thousands of datasets, and didn’t want to generate a figure for every single one?\n",
    "\n",
    "Cutting and pasting it is going to make our code get very long and very repetitive, very quickly. We’d like a way to package our code so that it is easier to reuse, and Python provides for this by letting us define things called `functions` — a shorthand way of re-executing longer pieces of code. Let’s start by defining a function `fahr_to_celsius` that converts temperatures from Fahrenheit to Celsius:At this point, we’ve written code to draw some interesting features in our inflammation data, loop over all our data files to quickly draw these plots for each of them, and have Python make decisions based on what it sees in our data. But, our code is getting pretty long and complicated; what if we had thousands of datasets, and didn’t want to generate a figure for every single one?\n",
    "\n",
    "Cutting and pasting it is going to make our code get very long and very repetitive, very quickly. We’d like a way to package our code so that it is easier to reuse, and Python provides for this by letting us define things called `functions` — a shorthand way of re-executing longer pieces of code. Let’s start by defining a function `fahr_to_celsius` that converts temperatures from Fahrenheit to Celsius:"
   ]
  },
  {
   "cell_type": "code",
   "execution_count": 18,
   "id": "c1ad24aa-bcc5-4924-8ae8-88a2e99891ea",
   "metadata": {},
   "outputs": [],
   "source": [
    "def fahr_to_celsius(temp_F):\n",
    "    temp_C = (temp_F - 32) * (5/9)\n",
    "    return temp_C"
   ]
  },
  {
   "cell_type": "markdown",
   "id": "cc62c079-9514-4df4-ab72-ebd0835fea90",
   "metadata": {},
   "source": [
    "Let’s try running our function. This command should call our function, using “32” as the input and return the function value. In fact, calling our own function is no different from calling any other function:"
   ]
  },
  {
   "cell_type": "code",
   "execution_count": 19,
   "id": "c1e42e05-ae0a-4283-8e26-3f0bef362b7a",
   "metadata": {},
   "outputs": [
    {
     "data": {
      "text/plain": [
       "0.0"
      ]
     },
     "execution_count": 19,
     "metadata": {},
     "output_type": "execute_result"
    }
   ],
   "source": [
    "fahr_to_celsius(32)"
   ]
  },
  {
   "cell_type": "markdown",
   "id": "029ef4ed-6cf3-46e2-b7e5-ccc51f0c0049",
   "metadata": {},
   "source": [
    "Now that we’ve seen how to turn Fahrenheit into Celsius, we can also write the function to turn Celsius into Kelvin:"
   ]
  },
  {
   "cell_type": "code",
   "execution_count": 20,
   "id": "3e8fdab0-17e5-45d1-8caf-ba3e957d24cb",
   "metadata": {},
   "outputs": [],
   "source": [
    "# Second example to convert Celsius to Kelvin\n",
    "def celsius_to_kelvin(temp_C):\n",
    "    return temp_C + 273.15"
   ]
  },
  {
   "cell_type": "code",
   "execution_count": 21,
   "id": "691d5219-47bb-4771-9f87-7b82e6940cca",
   "metadata": {},
   "outputs": [
    {
     "name": "stdout",
     "output_type": "stream",
     "text": [
      "freezing point of water in Kelvin: 273.15\n"
     ]
    }
   ],
   "source": [
    "print(\"freezing point of water in Kelvin:\", celsius_to_kelvin(0))"
   ]
  },
  {
   "cell_type": "markdown",
   "id": "66ddb83f-63f8-423f-8c00-4fe5d8b4a3fd",
   "metadata": {},
   "source": [
    "What about converting Fahrenheit to Kelvin? We could write out the formula, but we don’t need to. Instead, we can compose the two functions we have already created:"
   ]
  },
  {
   "cell_type": "code",
   "execution_count": 24,
   "id": "8ff0d769-0181-4414-91ff-ea15698e2edc",
   "metadata": {},
   "outputs": [],
   "source": [
    "def fahr_to_kelvin(temp_F):\n",
    "    temp_C = fahr_to_celsius(temp_F)\n",
    "    temp_K = celsius_to_kelvin(temp_C)\n",
    "    return temp_K"
   ]
  },
  {
   "cell_type": "code",
   "execution_count": 25,
   "id": "bbafd7c5-f1d0-4706-b7e6-d53bc37f835e",
   "metadata": {},
   "outputs": [
    {
     "name": "stdout",
     "output_type": "stream",
     "text": [
      "boiling point of water in Kelvin: 373.15\n"
     ]
    }
   ],
   "source": [
    "print(\"boiling point of water in Kelvin:\", fahr_to_kelvin(212))"
   ]
  },
  {
   "cell_type": "markdown",
   "id": "c4059f58-2771-4e78-8bfa-b27de36e44d4",
   "metadata": {},
   "source": [
    "This is our first taste of how larger programs are built: we define basic operations, then combine them in ever-larger chunks to get the effect we want. Real-life functions will usually be larger than the ones shown here — typically half a dozen to a few dozen lines — but they shouldn’t ever be much longer than that, or the next person who reads it won’t be able to understand what’s going on. General guideline: a function should perform one task."
   ]
  },
  {
   "cell_type": "markdown",
   "id": "d1824fe0-0c07-4419-ba0a-6ef8f980c9e2",
   "metadata": {},
   "source": [
    "### Variable scope"
   ]
  },
  {
   "cell_type": "markdown",
   "id": "3f5d1e65-f0bb-4bcb-9261-e69c7e8c14ed",
   "metadata": {},
   "source": [
    "In composing our temperature conversion functions, we created variables inside of those functions, `temp_C`, `temp_F,` and `temp_K`. We refer to these variables as local variables because they no longer exist once the function is done executing. If we try to access their values outside of the function, we will encounter an error:"
   ]
  },
  {
   "cell_type": "code",
   "execution_count": 28,
   "id": "73f2a1c5-81ac-4274-8ebd-f93161049485",
   "metadata": {},
   "outputs": [
    {
     "name": "stdout",
     "output_type": "stream",
     "text": [
      "Temperature in Kelvin was: 373.15\n"
     ]
    }
   ],
   "source": [
    "print(\"Temperature in Kelvin was:\", temp_K)"
   ]
  },
  {
   "cell_type": "markdown",
   "id": "1e09fdae-b181-4072-b7db-8a9eaec0ed4d",
   "metadata": {},
   "source": [
    "If you want to reuse the temperature in Kelvin after you have calculated it with fahr_to_kelvin, you can store the result of the function call in a variable:"
   ]
  },
  {
   "cell_type": "code",
   "execution_count": 27,
   "id": "6eb7463f-94e4-47e2-bc96-bc24817f83d0",
   "metadata": {},
   "outputs": [],
   "source": [
    "temp_K = fahr_to_kelvin(212)"
   ]
  },
  {
   "cell_type": "markdown",
   "id": "e6a6b869-d373-4a5d-83f6-3a4cbb13ee55",
   "metadata": {},
   "source": [
    "# Modular Code\n",
    "\n",
    "1. Update `inflammation_analysis.ipynb` by introducing functions\n",
    "2. Create a new script called `processing.py` and copy the functions there\n",
    "3. Create a new file called `inflammation_analysis_refactored.ipynb` and import our functions to run the analsysis"
   ]
  },
  {
   "cell_type": "markdown",
   "id": "c731412c-56d5-4f43-844c-b7f7a66d4f42",
   "metadata": {},
   "source": [
    "## Errors and exceptions\n",
    "Every programmer encounters errors, both those who are just beginning, and those who have been programming for years. Encountering errors and exceptions can be very frustrating at times, and can make coding feel like a hopeless endeavour. However, understanding what the different types of errors are and when you are likely to encounter them can help a lot. Once you know why you get certain types of errors, they become much easier to fix.Every programmer encounters errors, both those who are just beginning, and those who have been programming for years. Encountering errors and exceptions can be very frustrating at times, and can make coding feel like a hopeless endeavour. However, understanding what the different types of errors are and when you are likely to encounter them can help a lot. Once you know why you get certain types of errors, they become much easier to fix."
   ]
  },
  {
   "cell_type": "code",
   "execution_count": 31,
   "id": "5199b99f-ddfb-42f2-8ca1-7f0c98755864",
   "metadata": {},
   "outputs": [
    {
     "ename": "IndexError",
     "evalue": "list index out of range",
     "output_type": "error",
     "traceback": [
      "\u001b[1;31m---------------------------------------------------------------------------\u001b[0m",
      "\u001b[1;31mIndexError\u001b[0m                                Traceback (most recent call last)",
      "\u001b[1;32m~\\AppData\\Local\\Temp/ipykernel_15196/2545484755.py\u001b[0m in \u001b[0;36m<module>\u001b[1;34m\u001b[0m\n\u001b[0;32m      3\u001b[0m     \u001b[0mprint\u001b[0m\u001b[1;33m(\u001b[0m\u001b[0mice_cream\u001b[0m\u001b[1;33m[\u001b[0m\u001b[1;36m3\u001b[0m\u001b[1;33m]\u001b[0m\u001b[1;33m)\u001b[0m\u001b[1;33m\u001b[0m\u001b[1;33m\u001b[0m\u001b[0m\n\u001b[0;32m      4\u001b[0m \u001b[1;33m\u001b[0m\u001b[0m\n\u001b[1;32m----> 5\u001b[1;33m \u001b[0mfavorite_ice_cream\u001b[0m\u001b[1;33m(\u001b[0m\u001b[1;33m)\u001b[0m\u001b[1;33m\u001b[0m\u001b[1;33m\u001b[0m\u001b[0m\n\u001b[0m",
      "\u001b[1;32m~\\AppData\\Local\\Temp/ipykernel_15196/2545484755.py\u001b[0m in \u001b[0;36mfavorite_ice_cream\u001b[1;34m()\u001b[0m\n\u001b[0;32m      1\u001b[0m \u001b[1;32mdef\u001b[0m \u001b[0mfavorite_ice_cream\u001b[0m\u001b[1;33m(\u001b[0m\u001b[1;33m)\u001b[0m\u001b[1;33m:\u001b[0m\u001b[1;33m\u001b[0m\u001b[1;33m\u001b[0m\u001b[0m\n\u001b[0;32m      2\u001b[0m     \u001b[0mice_cream\u001b[0m \u001b[1;33m=\u001b[0m \u001b[1;33m[\u001b[0m\u001b[1;34m\"chocolate\"\u001b[0m\u001b[1;33m,\u001b[0m \u001b[1;34m\"vanilla\"\u001b[0m\u001b[1;33m,\u001b[0m \u001b[1;34m\"strawberry\"\u001b[0m\u001b[1;33m]\u001b[0m\u001b[1;33m\u001b[0m\u001b[1;33m\u001b[0m\u001b[0m\n\u001b[1;32m----> 3\u001b[1;33m     \u001b[0mprint\u001b[0m\u001b[1;33m(\u001b[0m\u001b[0mice_cream\u001b[0m\u001b[1;33m[\u001b[0m\u001b[1;36m3\u001b[0m\u001b[1;33m]\u001b[0m\u001b[1;33m)\u001b[0m\u001b[1;33m\u001b[0m\u001b[1;33m\u001b[0m\u001b[0m\n\u001b[0m\u001b[0;32m      4\u001b[0m \u001b[1;33m\u001b[0m\u001b[0m\n\u001b[0;32m      5\u001b[0m \u001b[0mfavorite_ice_cream\u001b[0m\u001b[1;33m(\u001b[0m\u001b[1;33m)\u001b[0m\u001b[1;33m\u001b[0m\u001b[1;33m\u001b[0m\u001b[0m\n",
      "\u001b[1;31mIndexError\u001b[0m: list index out of range"
     ]
    }
   ],
   "source": [
    "def favorite_ice_cream():\n",
    "    ice_cream = [\"chocolate\", \"vanilla\", \"strawberry\"]\n",
    "    print(ice_cream[3])\n",
    "    \n",
    "favorite_ice_cream()"
   ]
  },
  {
   "cell_type": "markdown",
   "id": "828e97c8-2fd4-4dcc-ae2d-0c5a54bff55f",
   "metadata": {},
   "source": [
    "This particular traceback has two levels. You can determine the number of levels by looking for the number of arrows on the left hand side. In this case:\n",
    "\n",
    "1. The first shows code from the cell above, with an arrow pointing to Line 5 (which is `favorite_ice_cream()`).\n",
    "\n",
    "1. The second shows some code in the function `favorite_ice_cream`, with an arrow pointing to Line 3 (which is `print(ice_creams[3])`).\n",
    "\n",
    "The last level is the actual place where the error occurred. The other level(s) show what function the program executed to get to the next level down. So, in this case, the program first performed a function call to the function `favorite_ice_cream`. Inside this function, the program encountered an error, when it tried to run the code `print(ice_creams[3])`."
   ]
  },
  {
   "cell_type": "markdown",
   "id": "caa8a0e6-43fd-48d3-bcfe-2e0c812a10ee",
   "metadata": {},
   "source": [
    "**Long Tracebacks**  \n",
    "Sometimes, you might see a traceback that is very long – sometimes they might even be 20 levels deep! This can make it seem like something horrible happened, but the length of the error message does not reflect severity, rather, it indicates that your program called many functions before it encountered the error. Most of the time, the actual place where the error occurred is at the bottom-most level, so you can skip down the traceback to the bottom."
   ]
  },
  {
   "cell_type": "markdown",
   "id": "ccd89ce7-1464-4f5a-a9f8-20e605c9a016",
   "metadata": {},
   "source": [
    "So what error did the program actually encounter? In the last line of the traceback, Python helpfully tells us the category or type of error (in this case, it is an `IndexError`) and a more detailed error message (in this case, it says “list index out of range”).\n",
    "\n",
    "If you encounter an error and don’t know what it means, it is still important to read the traceback closely. That way, if you fix the error, but encounter a new one, you can tell that the error changed. Additionally, sometimes knowing where the error occurred is enough to fix it, even if you don’t entirely understand the message."
   ]
  },
  {
   "cell_type": "markdown",
   "id": "69c58e3a-5c2f-438f-928a-8b9ffd777156",
   "metadata": {},
   "source": [
    "# Defensive programming\n",
    "\n",
    "The previous lessons have introduced the basic tools of programming: variables and lists, file I/O, loops, conditionals, and functions. What they haven’t done is show us how to tell whether a program is getting the right answer, and how to tell if it’s still getting the right answer as we make changes to it.\n",
    "\n",
    "With that, I have some bad news for you: You will make mistakes! However, with that fact also comes knowledge. The first step toward getting the right answers from our programs is to assume that mistakes will happen and to guard against them. \n",
    "\n",
    "This is called defensive programming, and the most common way to do it is to add **assertions** to our code so that it checks itself as it runs. An assertion is simply a statement that something must be true at a certain point in a program. When Python sees one, it evaluates the assertion’s condition. If it’s true, Python does nothing, but if it’s false, Python halts the program immediately and prints the error message if one is provided. For example, this piece of code halts as soon as the loop encounters a value that isn’t positive:"
   ]
  },
  {
   "cell_type": "code",
   "execution_count": 32,
   "id": "cea27c11-719a-4934-a554-28f6c5e43360",
   "metadata": {},
   "outputs": [],
   "source": [
    "# Some assertion examples\n",
    "assert 0 < 1"
   ]
  },
  {
   "cell_type": "code",
   "execution_count": 34,
   "id": "2aab0994-e17a-4444-bb48-ebc8b267db25",
   "metadata": {},
   "outputs": [
    {
     "ename": "AssertionError",
     "evalue": "0 should be smaller than 1",
     "output_type": "error",
     "traceback": [
      "\u001b[1;31m---------------------------------------------------------------------------\u001b[0m",
      "\u001b[1;31mAssertionError\u001b[0m                            Traceback (most recent call last)",
      "\u001b[1;32m~\\AppData\\Local\\Temp/ipykernel_15196/1748976815.py\u001b[0m in \u001b[0;36m<module>\u001b[1;34m\u001b[0m\n\u001b[1;32m----> 1\u001b[1;33m \u001b[1;32massert\u001b[0m \u001b[1;36m0\u001b[0m \u001b[1;33m>\u001b[0m \u001b[1;36m1\u001b[0m\u001b[1;33m,\u001b[0m \u001b[1;34m\"0 should be smaller than 1\"\u001b[0m\u001b[1;33m\u001b[0m\u001b[1;33m\u001b[0m\u001b[0m\n\u001b[0m",
      "\u001b[1;31mAssertionError\u001b[0m: 0 should be smaller than 1"
     ]
    }
   ],
   "source": [
    "assert 0 > 1, \"0 should be smaller than 1\""
   ]
  },
  {
   "cell_type": "code",
   "execution_count": 37,
   "id": "aef0767c-d59c-4403-b787-3b8eec5aefe0",
   "metadata": {},
   "outputs": [
    {
     "name": "stdout",
     "output_type": "stream",
     "text": [
      "total is 8.9\n"
     ]
    }
   ],
   "source": [
    "# Calculate sum of positive numbers\n",
    "numbers = [1.5, 2, 0.7, 0.3, 4.4]\n",
    "total = 0\n",
    "for num in numbers:\n",
    "    assert num > 0, \"Data should only contain positive numbers\"\n",
    "    total = total + num\n",
    "print(\"total is\", total)"
   ]
  },
  {
   "cell_type": "markdown",
   "id": "bcada941-6b1d-4f04-b10d-5d4fb46be60b",
   "metadata": {},
   "source": [
    "### How can catch empty datasets in our analysis?"
   ]
  },
  {
   "cell_type": "code",
   "execution_count": 38,
   "id": "0edc0d80-bae0-488e-89cc-254c1b293df8",
   "metadata": {},
   "outputs": [],
   "source": [
    "import numpy"
   ]
  },
  {
   "cell_type": "code",
   "execution_count": 39,
   "id": "5d0143eb-a356-4328-9fc8-008f7073afbb",
   "metadata": {},
   "outputs": [
    {
     "name": "stdout",
     "output_type": "stream",
     "text": [
      "[1 1]\n",
      "[]\n"
     ]
    }
   ],
   "source": [
    "array = numpy.array([1, 1])\n",
    "empty_array = numpy.array([])\n",
    "\n",
    "print(array)\n",
    "print(empty_array)"
   ]
  },
  {
   "cell_type": "code",
   "execution_count": 40,
   "id": "a15895ad-b6f1-425e-ae56-25cc2fb4a573",
   "metadata": {},
   "outputs": [
    {
     "data": {
      "text/plain": [
       "2"
      ]
     },
     "execution_count": 40,
     "metadata": {},
     "output_type": "execute_result"
    }
   ],
   "source": [
    "array.size"
   ]
  },
  {
   "cell_type": "code",
   "execution_count": 41,
   "id": "e622e938-d431-4517-aae5-488571e4be65",
   "metadata": {},
   "outputs": [
    {
     "data": {
      "text/plain": [
       "0"
      ]
     },
     "execution_count": 41,
     "metadata": {},
     "output_type": "execute_result"
    }
   ],
   "source": [
    "empty_array.size"
   ]
  },
  {
   "cell_type": "code",
   "execution_count": 42,
   "id": "57857c56-64ac-4c7e-8e87-397f52e6e14c",
   "metadata": {},
   "outputs": [
    {
     "ename": "AssertionError",
     "evalue": "Expected non-empty array",
     "output_type": "error",
     "traceback": [
      "\u001b[1;31m---------------------------------------------------------------------------\u001b[0m",
      "\u001b[1;31mAssertionError\u001b[0m                            Traceback (most recent call last)",
      "\u001b[1;32m~\\AppData\\Local\\Temp/ipykernel_15196/1191791340.py\u001b[0m in \u001b[0;36m<module>\u001b[1;34m\u001b[0m\n\u001b[0;32m      1\u001b[0m \u001b[1;32massert\u001b[0m \u001b[0marray\u001b[0m\u001b[1;33m.\u001b[0m\u001b[0msize\u001b[0m \u001b[1;33m>\u001b[0m \u001b[1;36m0\u001b[0m\u001b[1;33m,\u001b[0m \u001b[1;34m\"Expected non-empty array\"\u001b[0m\u001b[1;33m\u001b[0m\u001b[1;33m\u001b[0m\u001b[0m\n\u001b[1;32m----> 2\u001b[1;33m \u001b[1;32massert\u001b[0m \u001b[0mempty_array\u001b[0m\u001b[1;33m.\u001b[0m\u001b[0msize\u001b[0m \u001b[1;33m>\u001b[0m \u001b[1;36m0\u001b[0m\u001b[1;33m,\u001b[0m \u001b[1;34m\"Expected non-empty array\"\u001b[0m\u001b[1;33m\u001b[0m\u001b[1;33m\u001b[0m\u001b[0m\n\u001b[0m",
      "\u001b[1;31mAssertionError\u001b[0m: Expected non-empty array"
     ]
    }
   ],
   "source": [
    "assert array.size > 0, \"Expected non-empty array\"\n",
    "assert empty_array.size > 0, \"Expected non-empty array\""
   ]
  },
  {
   "cell_type": "code",
   "execution_count": null,
   "id": "2560a542-8335-49bd-8c79-d9e9aa325f49",
   "metadata": {},
   "outputs": [],
   "source": []
  }
 ],
 "metadata": {
  "kernelspec": {
   "display_name": "Python 3 (ipykernel)",
   "language": "python",
   "name": "python3"
  },
  "language_info": {
   "codemirror_mode": {
    "name": "ipython",
    "version": 3
   },
   "file_extension": ".py",
   "mimetype": "text/x-python",
   "name": "python",
   "nbconvert_exporter": "python",
   "pygments_lexer": "ipython3",
   "version": "3.8.8"
  }
 },
 "nbformat": 4,
 "nbformat_minor": 5
}
