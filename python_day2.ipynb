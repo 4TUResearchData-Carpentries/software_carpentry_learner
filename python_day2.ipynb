{
 "cells": [
  {
   "cell_type": "markdown",
   "id": "ac515a19-c932-48c9-a9b6-6595a45dcac9",
   "metadata": {},
   "source": [
    "# Python day 2"
   ]
  },
  {
   "cell_type": "markdown",
   "id": "c7ba30cd-db99-4071-aa9c-ca7242dadb2e",
   "metadata": {},
   "source": [
    "## Making choices"
   ]
  },
  {
   "cell_type": "code",
   "execution_count": 1,
   "id": "a660b4a2-d786-4931-ba13-5e275488bc93",
   "metadata": {},
   "outputs": [
    {
     "name": "stdout",
     "output_type": "stream",
     "text": [
      "not greater\n",
      "done\n"
     ]
    }
   ],
   "source": [
    "# if-statement\n",
    "num = 37\n",
    "if num > 100:\n",
    "    print(\"greater\")\n",
    "else:\n",
    "    print(\"not greater\")\n",
    "print(\"done\")"
   ]
  },
  {
   "cell_type": "code",
   "execution_count": 2,
   "id": "73829259-23aa-4df9-9d14-905a5004b7cc",
   "metadata": {},
   "outputs": [
    {
     "name": "stdout",
     "output_type": "stream",
     "text": [
      "before conditional\n",
      "after conditional\n"
     ]
    }
   ],
   "source": [
    "# If-statements don't require an else\n",
    "num = 57\n",
    "print(\"before conditional\")\n",
    "if num > 100:\n",
    "    print(num, \"is greater than 100\")\n",
    "print(\"after conditional\")"
   ]
  },
  {
   "cell_type": "code",
   "execution_count": 7,
   "id": "8da70d62-87b3-4f01-8829-a14ba71ba0fd",
   "metadata": {},
   "outputs": [
    {
     "name": "stdout",
     "output_type": "stream",
     "text": [
      "-3 is negative\n"
     ]
    }
   ],
   "source": [
    "# Chain multiple if-statements\n",
    "num = -3\n",
    "\n",
    "if num > 0:\n",
    "    print(num, \"is positive\")\n",
    "elif num == 0:\n",
    "    print(num, \"is zero\")\n",
    "else:\n",
    "    print(num, \"is negative\")\n",
    "    "
   ]
  },
  {
   "cell_type": "code",
   "execution_count": 8,
   "id": "e6f43997-8a79-4e46-b0c7-92f8899bc49a",
   "metadata": {},
   "outputs": [
    {
     "name": "stdout",
     "output_type": "stream",
     "text": [
      "at least on part is false\n"
     ]
    }
   ],
   "source": [
    "# Combine comparisons with and\n",
    "if (1 > 0) and (-1 >= 0):\n",
    "    print(\"both parts are true\")\n",
    "else:\n",
    "    print(\"at least on part is false\")"
   ]
  },
  {
   "cell_type": "code",
   "execution_count": 9,
   "id": "a2799df1-5e8e-4816-b937-31e5933f52ab",
   "metadata": {},
   "outputs": [
    {
     "name": "stdout",
     "output_type": "stream",
     "text": [
      "at least on test is true\n"
     ]
    }
   ],
   "source": [
    "# Combine with or\n",
    "if (1 > 0) or (-1 >= 0):\n",
    "    print(\"at least on test is true\")"
   ]
  },
  {
   "cell_type": "markdown",
   "id": "c60d9d4a-807d-47b8-bde6-a21b0c0c5544",
   "metadata": {},
   "source": [
    "## Checking our data"
   ]
  },
  {
   "cell_type": "code",
   "execution_count": 10,
   "id": "e24a0da5-746b-463e-8f23-21f1d18bd016",
   "metadata": {},
   "outputs": [],
   "source": [
    "import numpy"
   ]
  },
  {
   "cell_type": "code",
   "execution_count": 11,
   "id": "3f82dc11-784d-4936-89c6-1886c54e9c55",
   "metadata": {},
   "outputs": [],
   "source": [
    "data = numpy.loadtxt(fname=\"data/inflammation-01.csv\", delimiter=\",\")"
   ]
  },
  {
   "cell_type": "code",
   "execution_count": 12,
   "id": "8e072c69-fd16-4c55-acf2-6341ce3269f7",
   "metadata": {},
   "outputs": [
    {
     "name": "stdout",
     "output_type": "stream",
     "text": [
      "[ 0.  1.  2.  3.  4.  5.  6.  7.  8.  9. 10. 11. 12. 13. 14. 15. 16. 17.\n",
      " 18. 19. 20. 19. 18. 17. 16. 15. 14. 13. 12. 11. 10.  9.  8.  7.  6.  5.\n",
      "  4.  3.  2.  1.]\n"
     ]
    }
   ],
   "source": [
    "max_inflammation = numpy.max(data, axis=0)\n",
    "print(max_inflammation)"
   ]
  },
  {
   "cell_type": "code",
   "execution_count": null,
   "id": "3551960e-98ae-4263-982f-cd3f681a30a6",
   "metadata": {},
   "outputs": [],
   "source": []
  }
 ],
 "metadata": {
  "kernelspec": {
   "display_name": "Python 3 (ipykernel)",
   "language": "python",
   "name": "python3"
  },
  "language_info": {
   "codemirror_mode": {
    "name": "ipython",
    "version": 3
   },
   "file_extension": ".py",
   "mimetype": "text/x-python",
   "name": "python",
   "nbconvert_exporter": "python",
   "pygments_lexer": "ipython3",
   "version": "3.8.8"
  }
 },
 "nbformat": 4,
 "nbformat_minor": 5
}
