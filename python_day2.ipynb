{
 "cells": [
  {
   "cell_type": "markdown",
   "id": "ac515a19-c932-48c9-a9b6-6595a45dcac9",
   "metadata": {},
   "source": [
    "# Python day 2"
   ]
  },
  {
   "cell_type": "markdown",
   "id": "c7ba30cd-db99-4071-aa9c-ca7242dadb2e",
   "metadata": {},
   "source": [
    "## Making choices"
   ]
  },
  {
   "cell_type": "code",
   "execution_count": null,
   "id": "a660b4a2-d786-4931-ba13-5e275488bc93",
   "metadata": {},
   "outputs": [],
   "source": [
    "# if-statement\n",
    "num = 37\n",
    "if num > 100:\n",
    "    "
   ]
  }
 ],
 "metadata": {
  "kernelspec": {
   "display_name": "Python 3 (ipykernel)",
   "language": "python",
   "name": "python3"
  },
  "language_info": {
   "codemirror_mode": {
    "name": "ipython",
    "version": 3
   },
   "file_extension": ".py",
   "mimetype": "text/x-python",
   "name": "python",
   "nbconvert_exporter": "python",
   "pygments_lexer": "ipython3",
   "version": "3.8.8"
  }
 },
 "nbformat": 4,
 "nbformat_minor": 5
}
