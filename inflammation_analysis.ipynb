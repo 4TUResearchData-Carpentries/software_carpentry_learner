{
 "cells": [
  {
   "cell_type": "markdown",
   "id": "911e0b58-4fd0-4bdd-a4a9-6d8eeffbaadb",
   "metadata": {},
   "source": [
    "# Plotting data\n",
    "\n",
    "steps:\n",
    "1. Calculate min, mean, max\n",
    "1. Plot data\n",
    "1. Add labels\n",
    "1. Save plot"
   ]
  },
  {
   "cell_type": "code",
   "execution_count": null,
   "id": "d2f6331e-de82-4285-96b4-448363b5dca7",
   "metadata": {},
   "outputs": [],
   "source": [
    "import numpy\n",
    "import matplotlib.pyplot as plt\n",
    "\n",
    "# Import data\n"
   ]
  }
 ],
 "metadata": {
  "kernelspec": {
   "display_name": "Python 3 (ipykernel)",
   "language": "python",
   "name": "python3"
  },
  "language_info": {
   "codemirror_mode": {
    "name": "ipython",
    "version": 3
   },
   "file_extension": ".py",
   "mimetype": "text/x-python",
   "name": "python",
   "nbconvert_exporter": "python",
   "pygments_lexer": "ipython3",
   "version": "3.8.8"
  }
 },
 "nbformat": 4,
 "nbformat_minor": 5
}
