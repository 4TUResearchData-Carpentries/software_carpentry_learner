{
 "cells": [
  {
   "cell_type": "markdown",
   "id": "00c4cb34-285f-45a9-9fc6-fa32bdd43c0b",
   "metadata": {},
   "source": [
    "# Software Carpentry Exercises\n",
    "\n",
    "❓ = Question to cover in the breakout session  \n",
    "❔ = Optional question / homework  \n",
    "💡 = hints  \n",
    "🔎 = solution\n",
    "\n",
    "**Solutions**  \n",
    "Solutions are provided for each question. In order to view the solution, uncomment (`Ctrl + /`) the line `%load solutions/<solution.py>` and execute the cell (once for showing the answer, twice for running it)."
   ]
  },
  {
   "cell_type": "markdown",
   "id": "2bb835d5-c842-44ae-8e0d-225081280804",
   "metadata": {
    "jp-MarkdownHeadingCollapsed": true,
    "tags": []
   },
   "source": [
    "### ❓ Debugging"
   ]
  },
  {
   "cell_type": "markdown",
   "id": "35a8b64b-a75b-4b7d-9468-ed696d86d05a",
   "metadata": {},
   "source": [
    "You are assisting a researcher with Python code that computes the Body Mass Index (BMI) of patients. The researcher is concerned because all patients seemingly have unusual and identical BMIs, despite having different physiques. BMI is calculated as weight in kilograms divided by the square of height in metres.\n",
    "\n",
    "Use the debugging principles in this exercise and locate problems with the code. What suggestions would you give the researcher for ensuring any later changes they make work correctly? What bugs do you spot?"
   ]
  },
  {
   "cell_type": "code",
   "execution_count": null,
   "id": "ef1f8c33-da86-4cd7-ace2-f3bcc344dc70",
   "metadata": {},
   "outputs": [],
   "source": [
    "patients = [[70, 1.8], [80, 1.9], [150, 1.7]]\n",
    "\n",
    "def calculate_bmi(weight, height):\n",
    "    return weight / (height ** 2)\n",
    "\n",
    "for patient in patients:\n",
    "    weight, height = patients[0]\n",
    "    bmi = calculate_bmi(height, weight)\n",
    "    print(f\"Patient's BMI is {bmi:f}\") "
   ]
  },
  {
   "cell_type": "markdown",
   "id": "af0b6186-1110-47ba-b8a7-94ab76b1df8d",
   "metadata": {},
   "source": [
    "<details>\n",
    "<summary>💡 Click here for hints</summary>\n",
    "\n",
    "- Add a print statement in the `calculate_bmi` function, like `print('weight:', weight, 'height:', height)`, to make clear what the BMI is based on.\n",
    "\n",
    "- Change `print(f\"Patient's BMI is {bmi:f}\")` to `print(f\"Patient's BMI (weight: {weight}, height: {height} is: {bmi:f}\")`, in order to be able to distinguish bugs in the function from bugs in the loop.\n",
    "\n",
    "</details>"
   ]
  },
  {
   "cell_type": "code",
   "execution_count": null,
   "id": "34f98271-0679-4cd9-8dff-e696d07fd3ed",
   "metadata": {},
   "outputs": [],
   "source": [
    "# Your code here\n"
   ]
  },
  {
   "cell_type": "markdown",
   "id": "6e762094-31c3-445a-999d-5f5bee1286ba",
   "metadata": {},
   "source": [
    "#### 🔎 Solution"
   ]
  },
  {
   "cell_type": "code",
   "execution_count": null,
   "id": "a4c1959c-624c-4570-93c5-e7eaf1f36059",
   "metadata": {},
   "outputs": [],
   "source": [
    "# %load solutions/debugging.py"
   ]
  },
  {
   "cell_type": "markdown",
   "id": "a38eec37-3b59-4c94-819b-5f7d9387b487",
   "metadata": {
    "jp-MarkdownHeadingCollapsed": true,
    "tags": []
   },
   "source": [
    "### ❓ Reading error messages"
   ]
  },
  {
   "cell_type": "markdown",
   "id": "14c0e331-1f39-440a-a6b6-45513579b5d2",
   "metadata": {},
   "source": [
    "Read the Python code and the resulting traceback below, and answer the following questions:\n",
    "\n",
    "1. How many levels does the traceback have?\n",
    "1. What is the function name where the error occurred?\n",
    "1. On which line number in this function did the error occur?\n",
    "1. What is the type of error?\n",
    "1. What is the error message?"
   ]
  },
  {
   "cell_type": "code",
   "execution_count": null,
   "id": "52c4d031-c035-4943-9b1c-f15e1c4025e2",
   "metadata": {},
   "outputs": [],
   "source": [
    "# This code has an intentional error and will fail to run!\n",
    "def print_message(day):\n",
    "    messages = {\n",
    "        'monday': 'Hello, world!',\n",
    "        'tuesday': 'Today is Tuesday!',\n",
    "        'wednesday': 'It is the middle of the week.',\n",
    "        'thursday': 'Today is Donnerstag in German!',\n",
    "        'friday': 'Last day of the week!',\n",
    "        'saturday': 'Hooray for the weekend!',\n",
    "        'sunday': 'Aw, the weekend is almost over.'\n",
    "    }\n",
    "    print(messages[day])\n",
    "\n",
    "def print_friday_message():\n",
    "    print_message('Friday')\n",
    "\n",
    "print_friday_message()"
   ]
  },
  {
   "cell_type": "markdown",
   "id": "02f162ec-fa00-4295-a4f0-33b6b17bd0d4",
   "metadata": {},
   "source": [
    "<details>\n",
    "<summary>🔎 Click here for the solution</summary>\n",
    "\n",
    "1. 3 levels\n",
    "2. `print_message`\n",
    "3. 11\n",
    "4. KeyError\n",
    "5. There isn’t really a message; you’re supposed to infer that `Friday` is not a key in `messages`.\n",
    "\n",
    "</details>"
   ]
  },
  {
   "cell_type": "markdown",
   "id": "ca5ef8e7-1c46-4fcd-b24a-c7c2cc8d05b1",
   "metadata": {
    "jp-MarkdownHeadingCollapsed": true,
    "tags": []
   },
   "source": [
    "### ❓ Identifying variable name errors"
   ]
  },
  {
   "cell_type": "markdown",
   "id": "9fe1bc34-ff25-498a-839f-5c3d84c23c6b",
   "metadata": {},
   "source": [
    "1. Read the code below, and (without running it) try to identify what the errors are.\n",
    "1. Run the code, and read the error message. What type of NameError do you think this is? In other words, is it a string with no quotes, a misspelled variable, or a variable that should have been defined but was not?\n",
    "1. Fix the error.\n",
    "1. Repeat steps 2 and 3, until you have fixed all the errors."
   ]
  },
  {
   "cell_type": "code",
   "execution_count": null,
   "id": "c674c208-55a5-4001-a198-44441d3b83e9",
   "metadata": {},
   "outputs": [],
   "source": [
    "for number in range(10):\n",
    "    # use a if the number is a multiple of 3, otherwise use b\n",
    "    if (Number % 3) == 0:\n",
    "        message = message + a\n",
    "    else:\n",
    "        message = message + 'b'\n",
    "print(message)"
   ]
  },
  {
   "cell_type": "code",
   "execution_count": null,
   "id": "f55a36f8-10ba-4c47-9bb6-bc526147e1c2",
   "metadata": {},
   "outputs": [],
   "source": [
    "# Your code here\n"
   ]
  },
  {
   "cell_type": "markdown",
   "id": "7f81e67c-4c74-49f6-9afb-73701cb006c7",
   "metadata": {},
   "source": [
    "#### 🔎 Solution"
   ]
  },
  {
   "cell_type": "code",
   "execution_count": null,
   "id": "2334713d-744e-4f9d-9707-36d5a9e2184a",
   "metadata": {},
   "outputs": [],
   "source": [
    "# %load solutions/error_syntax.py"
   ]
  },
  {
   "cell_type": "markdown",
   "id": "5337b698-879f-4d81-a2d8-e2a8d79c799f",
   "metadata": {
    "jp-MarkdownHeadingCollapsed": true,
    "tags": []
   },
   "source": [
    "### ❓ Identifying index errors"
   ]
  },
  {
   "cell_type": "markdown",
   "id": "dd9d77c7-6a82-4ce8-ad2e-a24b38375499",
   "metadata": {},
   "source": [
    "1. Read the code below, and (without running it) try to identify what the errors are.\n",
    "1. Run the code, and read the error message. What type of error is it?\n",
    "1. Fix the error."
   ]
  },
  {
   "cell_type": "code",
   "execution_count": null,
   "id": "449c2e26-923e-4b7d-8e20-64fb67a730c2",
   "metadata": {},
   "outputs": [],
   "source": [
    "seasons = ['Spring', 'Summer', 'Fall', 'Winter']\n",
    "print('My favorite season is ', seasons[4])"
   ]
  },
  {
   "cell_type": "code",
   "execution_count": null,
   "id": "c121c9dd-b0e1-465b-b17d-04aebaf8431c",
   "metadata": {},
   "outputs": [],
   "source": [
    "# Your code here\n"
   ]
  },
  {
   "cell_type": "markdown",
   "id": "2c451d46-a1d3-4057-bda4-4a5793cd4618",
   "metadata": {},
   "source": [
    "#### 🔎 Solution"
   ]
  },
  {
   "cell_type": "code",
   "execution_count": null,
   "id": "70e1a2d2-c1ae-44f6-869d-e350bf8fe7df",
   "metadata": {},
   "outputs": [],
   "source": [
    "# %load solutions/error_syntax.py"
   ]
  },
  {
   "cell_type": "markdown",
   "id": "9a29e333-a34b-4825-a7ce-fcd021dc2592",
   "metadata": {
    "jp-MarkdownHeadingCollapsed": true,
    "tags": []
   },
   "source": [
    "### ❓ Combining strings"
   ]
  },
  {
   "cell_type": "markdown",
   "id": "ce37cff0-b58f-44b7-a2f0-30e2a1872c80",
   "metadata": {},
   "source": [
    "“Adding” two strings produces their concatenation: `'a' + 'b'` is `'ab'`. Write a function called `fence` that takes two parameters called `original` and `wrapper` and returns a new string that has the wrapper character at the beginning and end of the original. A call to your function should look like this:\n",
    "\n",
    "```python\n",
    "print(fence('name', '*'))\n",
    "```\n",
    "```\n",
    "Output\n",
    "*name*\n",
    "```"
   ]
  },
  {
   "cell_type": "code",
   "execution_count": null,
   "id": "2e7c0d9c-92f3-40d9-a06b-146ac3c9accd",
   "metadata": {},
   "outputs": [],
   "source": [
    "# Your code here\n"
   ]
  },
  {
   "cell_type": "markdown",
   "id": "e2022894-6f39-4f87-8f50-3834e739d7bb",
   "metadata": {},
   "source": [
    "#### 🔎 Solution"
   ]
  },
  {
   "cell_type": "code",
   "execution_count": null,
   "id": "b707f124-8fb2-48a7-8c4a-28eaf36ee28c",
   "metadata": {},
   "outputs": [],
   "source": [
    "# %load solutions/combining_strings.py"
   ]
  },
  {
   "cell_type": "markdown",
   "id": "438473ac-71cd-4845-8e50-c1fff726e29b",
   "metadata": {},
   "source": [
    "###"
   ]
  },
  {
   "cell_type": "code",
   "execution_count": null,
   "id": "7931e069-a89d-4dc6-8d05-5b4efecaee6f",
   "metadata": {},
   "outputs": [],
   "source": []
  },
  {
   "cell_type": "code",
   "execution_count": null,
   "id": "8eaed76d-2eb4-4017-a1d5-c8858683030d",
   "metadata": {},
   "outputs": [],
   "source": []
  },
  {
   "cell_type": "markdown",
   "id": "045d4657-2da1-4347-adff-79be21f7e041",
   "metadata": {},
   "source": [
    "### ❓ Question"
   ]
  },
  {
   "cell_type": "markdown",
   "id": "2e44b240-c919-42e6-96d6-d7d86df0ab3e",
   "metadata": {},
   "source": [
    "TEXT"
   ]
  },
  {
   "cell_type": "code",
   "execution_count": 38,
   "id": "f5afe483-e7f8-49ca-9037-639289c12cd3",
   "metadata": {},
   "outputs": [],
   "source": [
    "# Python problem"
   ]
  },
  {
   "cell_type": "code",
   "execution_count": null,
   "id": "1a8eee14-3b61-46c7-8e28-80c533572342",
   "metadata": {},
   "outputs": [],
   "source": [
    "# Your code here\n"
   ]
  },
  {
   "cell_type": "markdown",
   "id": "a8146e7d-a32f-42c1-9e2c-d5e6d4c42f41",
   "metadata": {},
   "source": [
    "#### 🔎 Solution"
   ]
  },
  {
   "cell_type": "code",
   "execution_count": 37,
   "id": "7379f8a9-48a0-49c6-ad3b-b9ba3f0501c7",
   "metadata": {},
   "outputs": [],
   "source": [
    "# %load solutions/<code.py>"
   ]
  },
  {
   "cell_type": "code",
   "execution_count": null,
   "id": "cdc27e29-029f-4a20-a11e-dbb168d429b0",
   "metadata": {},
   "outputs": [],
   "source": []
  }
 ],
 "metadata": {
  "kernelspec": {
   "display_name": "Python 3 (ipykernel)",
   "language": "python",
   "name": "python3"
  },
  "language_info": {
   "codemirror_mode": {
    "name": "ipython",
    "version": 3
   },
   "file_extension": ".py",
   "mimetype": "text/x-python",
   "name": "python",
   "nbconvert_exporter": "python",
   "pygments_lexer": "ipython3",
   "version": "3.8.13"
  }
 },
 "nbformat": 4,
 "nbformat_minor": 5
}
